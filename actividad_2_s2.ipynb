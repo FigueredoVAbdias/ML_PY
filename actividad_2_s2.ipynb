{
    "cells": [
        {
            "cell_type": "markdown",
            "metadata": {},
            "source": [
                "# <img style=\"float: left; padding-right: 20px; height: 70px\" src=\"https://i.imgur.com/cMzxwTN.jpg\"> Fundamentos de Machine Learning\n",
                "## Sesion 2, Actividad II\n",
                "\n",
                "**Universidad Privada Boliviana**<br/>\n",
                "**Diplomado en Machine Learning y Ciencia de Datos**<br/>\n"
            ]
        },
        {
            "cell_type": "code",
            "execution_count": 1,
            "metadata": {
                "collapsed": true
            },
            "outputs": [],
            "source": [
                "# Import necessary libraries\n",
                "%matplotlib inline\n",
                "import operator\n",
                "import numpy as np\n",
                "import pandas as pd\n",
                "import matplotlib.pyplot as plt\n",
                "from sklearn.metrics import mean_squared_error\n",
                "from sklearn.linear_model import LinearRegression\n",
                "from sklearn.model_selection import cross_validate\n",
                "from sklearn.model_selection import train_test_split\n",
                "from sklearn.preprocessing import PolynomialFeatures\n"
            ]
        },
        {
            "attachments": {},
            "cell_type": "markdown",
            "metadata": {},
            "source": [
                "### 1. Leer el dataset"
            ]
        },
        {
            "cell_type": "code",
            "execution_count": 2,
            "metadata": {
                "collapsed": true
            },
            "outputs": [
                {
                    "data": {
                        "application/vnd.microsoft.datawrangler.viewer.v0+json": {
                            "columns": [
                                {
                                    "name": "index",
                                    "rawType": "int64",
                                    "type": "integer"
                                },
                                {
                                    "name": "x1",
                                    "rawType": "float64",
                                    "type": "float"
                                },
                                {
                                    "name": "y1",
                                    "rawType": "float64",
                                    "type": "float"
                                }
                            ],
                            "conversionMethod": "pd.DataFrame",
                            "ref": "0230d7f4-b90b-493b-b92d-59388f2fde9e",
                            "rows": [
                                [
                                    "0",
                                    "0.265959809",
                                    "1.624971832"
                                ],
                                [
                                    "1",
                                    "0.516804535",
                                    "2.734012228"
                                ],
                                [
                                    "2",
                                    "0.658542082",
                                    "4.628908017"
                                ],
                                [
                                    "3",
                                    "1.678051942",
                                    "5.186454785"
                                ],
                                [
                                    "4",
                                    "2.112463381",
                                    "8.395088239"
                                ]
                            ],
                            "shape": {
                                "columns": 2,
                                "rows": 5
                            }
                        },
                        "text/html": [
                            "<div>\n",
                            "<style scoped>\n",
                            "    .dataframe tbody tr th:only-of-type {\n",
                            "        vertical-align: middle;\n",
                            "    }\n",
                            "\n",
                            "    .dataframe tbody tr th {\n",
                            "        vertical-align: top;\n",
                            "    }\n",
                            "\n",
                            "    .dataframe thead th {\n",
                            "        text-align: right;\n",
                            "    }\n",
                            "</style>\n",
                            "<table border=\"1\" class=\"dataframe\">\n",
                            "  <thead>\n",
                            "    <tr style=\"text-align: right;\">\n",
                            "      <th></th>\n",
                            "      <th>x1</th>\n",
                            "      <th>y1</th>\n",
                            "    </tr>\n",
                            "  </thead>\n",
                            "  <tbody>\n",
                            "    <tr>\n",
                            "      <th>0</th>\n",
                            "      <td>0.265960</td>\n",
                            "      <td>1.624972</td>\n",
                            "    </tr>\n",
                            "    <tr>\n",
                            "      <th>1</th>\n",
                            "      <td>0.516805</td>\n",
                            "      <td>2.734012</td>\n",
                            "    </tr>\n",
                            "    <tr>\n",
                            "      <th>2</th>\n",
                            "      <td>0.658542</td>\n",
                            "      <td>4.628908</td>\n",
                            "    </tr>\n",
                            "    <tr>\n",
                            "      <th>3</th>\n",
                            "      <td>1.678052</td>\n",
                            "      <td>5.186455</td>\n",
                            "    </tr>\n",
                            "    <tr>\n",
                            "      <th>4</th>\n",
                            "      <td>2.112463</td>\n",
                            "      <td>8.395088</td>\n",
                            "    </tr>\n",
                            "  </tbody>\n",
                            "</table>\n",
                            "</div>"
                        ],
                        "text/plain": [
                            "         x1        y1\n",
                            "0  0.265960  1.624972\n",
                            "1  0.516805  2.734012\n",
                            "2  0.658542  4.628908\n",
                            "3  1.678052  5.186455\n",
                            "4  2.112463  8.395088"
                        ]
                    },
                    "execution_count": 2,
                    "metadata": {},
                    "output_type": "execute_result"
                }
            ],
            "source": [
                "# Read the file \"dataset.csv\" as a Pandas dataframe\n",
                "df = pd.read_csv(\"dataset1.csv\")\n",
                "\n",
                "# Eche un vistazo rápido al conjunto de datos\n",
                "df.head()\n"
            ]
        },
        {
            "cell_type": "code",
            "execution_count": 3,
            "metadata": {
                "collapsed": true
            },
            "outputs": [],
            "source": [
                "# Asigne los valores de las columnas x e y a la\n",
                "# variables predictoras y de respuesta\n",
                "x = df[[\"x1\"]].values\n",
                "y = df[\"y1\"].values\n"
            ]
        },
        {
            "attachments": {},
            "cell_type": "markdown",
            "metadata": {},
            "source": [
                "### 2. Dividir en Train-validation sets"
            ]
        },
        {
            "cell_type": "code",
            "execution_count": 4,
            "metadata": {
                "collapsed": true
            },
            "outputs": [],
            "source": [
                "# Dividir el conjunto de datos en conjuntos de entrenamiento y validación con un conjunto de entrenamiento del 75 %\n",
                "# Establecer estado_aleatorio=1\n",
                "# Dividir estos datos para comparar con validacion cruzada\n",
                "x_train, x_val, y_train, y_val = train_test_split(x,y,train_size=0.75,random_state=1)\n"
            ]
        },
        {
            "cell_type": "markdown",
            "metadata": {},
            "source": [
                "### 3. Realizar la validacion cruzada con 4 pliegues con un polinomio de primer grado"
            ]
        },
        {
            "cell_type": "code",
            "execution_count": 5,
            "metadata": {},
            "outputs": [
                {
                    "name": "stdout",
                    "output_type": "stream",
                    "text": [
                        "{'fit_time': array([0.0019958 , 0.00104046, 0.        , 0.00156808]), 'score_time': array([0.00099564, 0.0009551 , 0.00099659, 0.00099349]), 'test_score': array([-229.16475243,  -49.4446576 ,  -31.27591997, -152.14280128])}\n",
                        "115.5070328193026\n"
                    ]
                }
            ],
            "source": [
                "### codigo aca\n",
                "# Para un polinomio de grado 1, y validacion cruzada de 4 pliegues\n",
                "x_poly = PolynomialFeatures(degree=1).fit_transform(x)\n",
                "lreg   = LinearRegression(fit_intercept=False)\n",
                "cross_val = cross_validate(lreg, x_poly, y, cv =4, scoring=\"neg_mean_squared_error\")\n",
                "# obtener el error de validacion cruzada\n",
                "print(cross_val) \n",
                "# obtener el promedio del error de validacion cruzada\n",
                "print(-1*np.mean(cross_val[\"test_score\"]))"
            ]
        },
        {
            "cell_type": "markdown",
            "metadata": {},
            "source": [
                "#### 3.1 Analizar la variable de validacion cruzada\n"
            ]
        },
        {
            "cell_type": "markdown",
            "metadata": {},
            "source": []
        },
        {
            "cell_type": "code",
            "execution_count": 6,
            "metadata": {},
            "outputs": [
                {
                    "name": "stdout",
                    "output_type": "stream",
                    "text": [
                        "115.5070328193026\n"
                    ]
                }
            ],
            "source": [
                "### Encontrar el error promedio de validacion cruzada\n",
                "print(-1*np.mean(cross_val[\"test_score\"]))"
            ]
        },
        {
            "attachments": {},
            "cell_type": "markdown",
            "metadata": {},
            "source": [
                "### 4. Encontrar el  MSE para polinomios de grado variable"
            ]
        },
        {
            "cell_type": "code",
            "execution_count": 12,
            "metadata": {},
            "outputs": [
                {
                    "name": "stdout",
                    "output_type": "stream",
                    "text": [
                        "[2.250715205970138, 1.3532575981865105, 3.0062773294081055]\n",
                        "[np.float64(6.543435472232517), np.float64(1117.2526378104385), np.float64(1497286.1656705092)]\n"
                    ]
                }
            ],
            "source": [
                "# Seleccionar el grado maximo a iterar\n",
                "maxdeg = 15\n",
                "training_error = []\n",
                "validation_error = []\n",
                "cross_validation_error = []\n",
                "for d in [2,6,10]:\n",
                "    # calculo de los polynomial features\n",
                "    x_poly = PolynomialFeatures(degree=d).fit_transform(x)\n",
                "    \n",
                "    x_poly_train = PolynomialFeatures(degree=d).fit_transform(x_train)\n",
                "    x_poly_val   = PolynomialFeatures(degree=d).fit_transform(x_val)\n",
                "    # Inicializar el modelo de regresion sin utilizar el intercept\n",
                "    lreg = LinearRegression(fit_intercept=False)\n",
                "    # Ajustar el modelo en los datos de entrenamiento\n",
                "    # Un solo conjunto de validacion\n",
                "    lreg.fit(x_poly_train,y_train)\n",
                "\n",
                "    # Utilizar el modelo entrenado para predecir en los datos transformados del train set\n",
                "    # Un solo conjunto de validacion\n",
                "    y_train_pred = lreg.predict(x_poly_train)\n",
                "    # Utilizar el modelo entrenado para predecir en los datos transformados del validation set\n",
                "    y_val_pred   = lreg.predict(x_poly_val)\n",
                "\n",
                "    # Calcular el error en base a los datos en y_train_pred y y_val_pred\n",
                "    training_error.append(mean_squared_error(y_train,y_train_pred))\n",
                "    validation_error.append(mean_squared_error(y_val,y_val_pred))\n",
                "\n",
                "    # realizar cross validation \n",
                "    cross_val = cross_validate(lreg, x_poly, y, cv = 4 , scoring = \"neg_mean_squared_error\" )\n",
                "    mse_score = np.mean(-1*cross_val[\"test_score\"])\n",
                "    cross_validation_error.append(mse_score)\n",
                "print(validation_error)\n",
                "print(cross_validation_error)\n",
                "\n",
                "    "
            ]
        },
        {
            "attachments": {},
            "cell_type": "markdown",
            "metadata": {},
            "source": [
                "#### 4.1 Encontrar el grado optimo del polinomio"
            ]
        },
        {
            "cell_type": "code",
            "execution_count": 13,
            "metadata": {},
            "outputs": [
                {
                    "name": "stdout",
                    "output_type": "stream",
                    "text": [
                        "grado optimo validacion unica: 1\n",
                        "grado optimo validacion cruzada: 0\n"
                    ]
                }
            ],
            "source": [
                "grado_optimo_valid_unica = validation_error.index(min(validation_error))\n",
                "grado_optimo_valid_cruzada = cross_validation_error.index(min(cross_validation_error))\n",
                "print(\"grado optimo validacion unica:\", grado_optimo_valid_unica)\n",
                "print(\"grado optimo validacion cruzada:\", grado_optimo_valid_cruzada) "
            ]
        },
        {
            "attachments": {},
            "cell_type": "markdown",
            "metadata": {},
            "source": [
                "#### 4.2 Graficar los errores obtenidos"
            ]
        },
        {
            "cell_type": "code",
            "execution_count": 14,
            "metadata": {},
            "outputs": [
                {
                    "ename": "ValueError",
                    "evalue": "x and y must have same first dimension, but have shapes (15,) and (3,)",
                    "output_type": "error",
                    "traceback": [
                        "\u001b[1;31m---------------------------------------------------------------------------\u001b[0m",
                        "\u001b[1;31mValueError\u001b[0m                                Traceback (most recent call last)",
                        "Cell \u001b[1;32mIn[14], line 4\u001b[0m\n\u001b[0;32m      1\u001b[0m fig,ax \u001b[38;5;241m=\u001b[39m plt\u001b[38;5;241m.\u001b[39msubplots(\u001b[38;5;241m1\u001b[39m,\u001b[38;5;241m2\u001b[39m,figsize\u001b[38;5;241m=\u001b[39m(\u001b[38;5;241m16\u001b[39m,\u001b[38;5;241m8\u001b[39m))\n\u001b[0;32m      3\u001b[0m \u001b[38;5;66;03m# Graficar el error del training set con etiquetas\u001b[39;00m\n\u001b[1;32m----> 4\u001b[0m \u001b[43max\u001b[49m\u001b[43m[\u001b[49m\u001b[38;5;241;43m0\u001b[39;49m\u001b[43m]\u001b[49m\u001b[38;5;241;43m.\u001b[39;49m\u001b[43mplot\u001b[49m\u001b[43m(\u001b[49m\u001b[38;5;28;43mrange\u001b[39;49m\u001b[43m(\u001b[49m\u001b[43mmaxdeg\u001b[49m\u001b[43m)\u001b[49m\u001b[43m,\u001b[49m\u001b[43mnp\u001b[49m\u001b[38;5;241;43m.\u001b[39;49m\u001b[43mlog\u001b[49m\u001b[43m(\u001b[49m\u001b[43mtraining_error\u001b[49m\u001b[43m)\u001b[49m\u001b[43m,\u001b[49m\u001b[43mlabel\u001b[49m\u001b[38;5;241;43m=\u001b[39;49m\u001b[38;5;124;43m\"\u001b[39;49m\u001b[38;5;124;43mTraining error\u001b[39;49m\u001b[38;5;124;43m\"\u001b[39;49m\u001b[43m)\u001b[49m\n\u001b[0;32m      5\u001b[0m \u001b[38;5;66;03m# Graficar el error del validation set con etiquetas\u001b[39;00m\n\u001b[0;32m      6\u001b[0m ax[\u001b[38;5;241m0\u001b[39m]\u001b[38;5;241m.\u001b[39mplot(\u001b[38;5;28mrange\u001b[39m(maxdeg),np\u001b[38;5;241m.\u001b[39mlog(validation_error), \u001b[38;5;124m\"\u001b[39m\u001b[38;5;124mo-\u001b[39m\u001b[38;5;124m\"\u001b[39m,label\u001b[38;5;241m=\u001b[39m\u001b[38;5;124m\"\u001b[39m\u001b[38;5;124mValidation error\u001b[39m\u001b[38;5;124m\"\u001b[39m)\n",
                        "File \u001b[1;32mc:\\Users\\abdia\\AppData\\Local\\Programs\\Python\\Python312\\Lib\\site-packages\\matplotlib\\axes\\_axes.py:1777\u001b[0m, in \u001b[0;36mAxes.plot\u001b[1;34m(self, scalex, scaley, data, *args, **kwargs)\u001b[0m\n\u001b[0;32m   1534\u001b[0m \u001b[38;5;250m\u001b[39m\u001b[38;5;124;03m\"\"\"\u001b[39;00m\n\u001b[0;32m   1535\u001b[0m \u001b[38;5;124;03mPlot y versus x as lines and/or markers.\u001b[39;00m\n\u001b[0;32m   1536\u001b[0m \n\u001b[1;32m   (...)\u001b[0m\n\u001b[0;32m   1774\u001b[0m \u001b[38;5;124;03m(``'green'``) or hex strings (``'#008000'``).\u001b[39;00m\n\u001b[0;32m   1775\u001b[0m \u001b[38;5;124;03m\"\"\"\u001b[39;00m\n\u001b[0;32m   1776\u001b[0m kwargs \u001b[38;5;241m=\u001b[39m cbook\u001b[38;5;241m.\u001b[39mnormalize_kwargs(kwargs, mlines\u001b[38;5;241m.\u001b[39mLine2D)\n\u001b[1;32m-> 1777\u001b[0m lines \u001b[38;5;241m=\u001b[39m [\u001b[38;5;241m*\u001b[39m\u001b[38;5;28mself\u001b[39m\u001b[38;5;241m.\u001b[39m_get_lines(\u001b[38;5;28mself\u001b[39m, \u001b[38;5;241m*\u001b[39margs, data\u001b[38;5;241m=\u001b[39mdata, \u001b[38;5;241m*\u001b[39m\u001b[38;5;241m*\u001b[39mkwargs)]\n\u001b[0;32m   1778\u001b[0m \u001b[38;5;28;01mfor\u001b[39;00m line \u001b[38;5;129;01min\u001b[39;00m lines:\n\u001b[0;32m   1779\u001b[0m     \u001b[38;5;28mself\u001b[39m\u001b[38;5;241m.\u001b[39madd_line(line)\n",
                        "File \u001b[1;32mc:\\Users\\abdia\\AppData\\Local\\Programs\\Python\\Python312\\Lib\\site-packages\\matplotlib\\axes\\_base.py:297\u001b[0m, in \u001b[0;36m_process_plot_var_args.__call__\u001b[1;34m(self, axes, data, return_kwargs, *args, **kwargs)\u001b[0m\n\u001b[0;32m    295\u001b[0m     this \u001b[38;5;241m+\u001b[39m\u001b[38;5;241m=\u001b[39m args[\u001b[38;5;241m0\u001b[39m],\n\u001b[0;32m    296\u001b[0m     args \u001b[38;5;241m=\u001b[39m args[\u001b[38;5;241m1\u001b[39m:]\n\u001b[1;32m--> 297\u001b[0m \u001b[38;5;28;01myield from\u001b[39;00m \u001b[38;5;28;43mself\u001b[39;49m\u001b[38;5;241;43m.\u001b[39;49m\u001b[43m_plot_args\u001b[49m\u001b[43m(\u001b[49m\n\u001b[0;32m    298\u001b[0m \u001b[43m    \u001b[49m\u001b[43maxes\u001b[49m\u001b[43m,\u001b[49m\u001b[43m \u001b[49m\u001b[43mthis\u001b[49m\u001b[43m,\u001b[49m\u001b[43m \u001b[49m\u001b[43mkwargs\u001b[49m\u001b[43m,\u001b[49m\u001b[43m \u001b[49m\u001b[43mambiguous_fmt_datakey\u001b[49m\u001b[38;5;241;43m=\u001b[39;49m\u001b[43mambiguous_fmt_datakey\u001b[49m\u001b[43m,\u001b[49m\n\u001b[0;32m    299\u001b[0m \u001b[43m    \u001b[49m\u001b[43mreturn_kwargs\u001b[49m\u001b[38;5;241;43m=\u001b[39;49m\u001b[43mreturn_kwargs\u001b[49m\n\u001b[0;32m    300\u001b[0m \u001b[43m\u001b[49m\u001b[43m)\u001b[49m\n",
                        "File \u001b[1;32mc:\\Users\\abdia\\AppData\\Local\\Programs\\Python\\Python312\\Lib\\site-packages\\matplotlib\\axes\\_base.py:494\u001b[0m, in \u001b[0;36m_process_plot_var_args._plot_args\u001b[1;34m(self, axes, tup, kwargs, return_kwargs, ambiguous_fmt_datakey)\u001b[0m\n\u001b[0;32m    491\u001b[0m     axes\u001b[38;5;241m.\u001b[39myaxis\u001b[38;5;241m.\u001b[39mupdate_units(y)\n\u001b[0;32m    493\u001b[0m \u001b[38;5;28;01mif\u001b[39;00m x\u001b[38;5;241m.\u001b[39mshape[\u001b[38;5;241m0\u001b[39m] \u001b[38;5;241m!=\u001b[39m y\u001b[38;5;241m.\u001b[39mshape[\u001b[38;5;241m0\u001b[39m]:\n\u001b[1;32m--> 494\u001b[0m     \u001b[38;5;28;01mraise\u001b[39;00m \u001b[38;5;167;01mValueError\u001b[39;00m(\u001b[38;5;124mf\u001b[39m\u001b[38;5;124m\"\u001b[39m\u001b[38;5;124mx and y must have same first dimension, but \u001b[39m\u001b[38;5;124m\"\u001b[39m\n\u001b[0;32m    495\u001b[0m                      \u001b[38;5;124mf\u001b[39m\u001b[38;5;124m\"\u001b[39m\u001b[38;5;124mhave shapes \u001b[39m\u001b[38;5;132;01m{\u001b[39;00mx\u001b[38;5;241m.\u001b[39mshape\u001b[38;5;132;01m}\u001b[39;00m\u001b[38;5;124m and \u001b[39m\u001b[38;5;132;01m{\u001b[39;00my\u001b[38;5;241m.\u001b[39mshape\u001b[38;5;132;01m}\u001b[39;00m\u001b[38;5;124m\"\u001b[39m)\n\u001b[0;32m    496\u001b[0m \u001b[38;5;28;01mif\u001b[39;00m x\u001b[38;5;241m.\u001b[39mndim \u001b[38;5;241m>\u001b[39m \u001b[38;5;241m2\u001b[39m \u001b[38;5;129;01mor\u001b[39;00m y\u001b[38;5;241m.\u001b[39mndim \u001b[38;5;241m>\u001b[39m \u001b[38;5;241m2\u001b[39m:\n\u001b[0;32m    497\u001b[0m     \u001b[38;5;28;01mraise\u001b[39;00m \u001b[38;5;167;01mValueError\u001b[39;00m(\u001b[38;5;124mf\u001b[39m\u001b[38;5;124m\"\u001b[39m\u001b[38;5;124mx and y can be no greater than 2D, but have \u001b[39m\u001b[38;5;124m\"\u001b[39m\n\u001b[0;32m    498\u001b[0m                      \u001b[38;5;124mf\u001b[39m\u001b[38;5;124m\"\u001b[39m\u001b[38;5;124mshapes \u001b[39m\u001b[38;5;132;01m{\u001b[39;00mx\u001b[38;5;241m.\u001b[39mshape\u001b[38;5;132;01m}\u001b[39;00m\u001b[38;5;124m and \u001b[39m\u001b[38;5;132;01m{\u001b[39;00my\u001b[38;5;241m.\u001b[39mshape\u001b[38;5;132;01m}\u001b[39;00m\u001b[38;5;124m\"\u001b[39m)\n",
                        "\u001b[1;31mValueError\u001b[0m: x and y must have same first dimension, but have shapes (15,) and (3,)"
                    ]
                },
                {
                    "data": {
                        "image/png": "[encoded data removed]",
                        "text/plain": [
                            "<Figure size 1600x800 with 2 Axes>"
                        ]
                    },
                    "metadata": {},
                    "output_type": "display_data"
                }
            ],
            "source": [
                "\n",
                "fig,ax = plt.subplots(1,2,figsize=(16,8))\n",
                "\n",
                "# Graficar el error del training set con etiquetas\n",
                "ax[0].plot(range(maxdeg),np.log(training_error),label=\"Training error\")\n",
                "# Graficar el error del validation set con etiquetas\n",
                "ax[0].plot(range(maxdeg),np.log(validation_error), \"o-\",label=\"Validation error\")\n",
                "\n",
                "# Graficar el error del training set con etiquetas\n",
                "ax[1].plot(range(maxdeg),np.log(training_error),label=\"Training error\")\n",
                "# Graficar el error del validation set con etiquetas\n",
                "ax[1].plot(range(maxdeg),np.log(cross_validation_error),\"o-\",label=\"Cross-Validation error\")\n",
                "\n",
                "\n",
                "# agregar etiquetas a los ejes:\n",
                "ax[0].set_xlabel(\"Grado del polinomio\")\n",
                "ax[0].set_ylabel(\"Log MSE\")\n",
                "ax[0].set_title(\"Log de error de validacion vs grado\")\n",
                "ax[0].legend(loc='best')\n",
                "\n",
                "# agregar etiquetas a los ejes:\n",
                "ax[1].set_xlabel(\"Grado del polinomio\")\n",
                "ax[1].set_ylabel(\"Log MSE\")\n",
                "ax[1].set_title(\"Log de Cross Val. error vs grado\")\n",
                "ax[1].legend(loc='best')\n",
                "\n",
                "plt.show()"
            ]
        },
        {
            "cell_type": "code",
            "execution_count": null,
            "metadata": {},
            "outputs": [],
            "source": [
                "# Seleccionar el grado maximo a iterar\n",
                "maxdeg = 15\n",
                "training_error = []\n",
                "validation_error = []\n",
                "cross_validation_error = []\n",
                "for d in [2,6,10]:\n",
                "    # calculo de los polynomial features\n",
                "    x_poly = PolynomialFeatures(degree=d).fit_transform(x)\n",
                "    \n",
                "    x_poly_train = PolynomialFeatures(degree=d).fit_transform(x_train)\n",
                "    x_poly_val   = PolynomialFeatures(degree=d).fit_transform(x_val)\n",
                "\n",
                "#[3.6696196613016077, 2.1962657499572513, 4.547240132535112]\n",
                "#[np.float64(6.543435472232517), np.float64(1117.2526378104385), np.float64(1497286.1656705092)]1"
            ]
        },
        {
            "attachments": {},
            "cell_type": "markdown",
            "metadata": {},
            "source": [
                "⏸ Si ejecutas el ejercicio con un estado aleatorio de 0, ¿notas algún cambio? ¿Qué conclusión puedes sacar de este experimento?\n"
            ]
        },
        {
            "cell_type": "code",
            "execution_count": 18,
            "metadata": {},
            "outputs": [],
            "source": [
                "\n",
                "answer1 = '---'\n"
            ]
        },
        {
            "cell_type": "markdown",
            "metadata": {},
            "source": [
                "### 5. Analisis para otro dataset\n",
                "\n",
                "Repetir los pasos anteriores $1,2,4$ para el `dataset2.csv`\n",
                "\n",
                "\n",
                "Anotar sus observaciones"
            ]
        },
        {
            "cell_type": "markdown",
            "metadata": {},
            "source": []
        }
    ],
    "metadata": {
        "kernelspec": {
            "display_name": "Python 3",
            "language": "python",
            "name": "python3"
        },
        "language_info": {
            "codemirror_mode": {
                "name": "ipython",
                "version": 3
            },
            "file_extension": ".py",
            "mimetype": "text/x-python",
            "name": "python",
            "nbconvert_exporter": "python",
            "pygments_lexer": "ipython3",
            "version": "3.12.8"
        }
    },
    "nbformat": 4,
    "nbformat_minor": 4
}
