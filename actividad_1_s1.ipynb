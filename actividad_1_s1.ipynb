{
    "cells": [
        {
            "cell_type": "markdown",
            "metadata": {},
            "source": [
                "# <img style=\"float: left; padding-right: 20px; height: 70px\" src=\"https://i.imgur.com/cMzxwTN.jpg\"> Fundamentos de Machine Learning\n",
                "## Sesion 1, Actividad I\n",
                "**Universidad Privada Boliviana**<br/>\n",
                "**Diplomado en Machine Learning y Ciencia de Datos**<br/>\n",
                "\n",
                "\n",
                "\n",
                "<hr>\n"
            ]
        },
        {
            "cell_type": "code",
            "execution_count": 2,
            "metadata": {},
            "outputs": [
                {
                    "name": "stdout",
                    "output_type": "stream",
                    "text": [
                        "Requirement already satisfied: scikit-learn in c:\\users\\hugo condori\\appdata\\local\\programs\\python\\python312\\lib\\site-packages (1.6.0)\n",
                        "Requirement already satisfied: numpy>=1.19.5 in c:\\users\\hugo condori\\appdata\\local\\programs\\python\\python312\\lib\\site-packages (from scikit-learn) (2.1.2)\n",
                        "Requirement already satisfied: scipy>=1.6.0 in c:\\users\\hugo condori\\appdata\\local\\programs\\python\\python312\\lib\\site-packages (from scikit-learn) (1.14.1)\n",
                        "Requirement already satisfied: joblib>=1.2.0 in c:\\users\\hugo condori\\appdata\\local\\programs\\python\\python312\\lib\\site-packages (from scikit-learn) (1.4.2)\n",
                        "Requirement already satisfied: threadpoolctl>=3.1.0 in c:\\users\\hugo condori\\appdata\\local\\programs\\python\\python312\\lib\\site-packages (from scikit-learn) (3.5.0)\n",
                        "Note: you may need to restart the kernel to use updated packages.\n"
                    ]
                },
                {
                    "name": "stderr",
                    "output_type": "stream",
                    "text": [
                        "\n",
                        "[notice] A new release of pip is available: 24.2 -> 25.0\n",
                        "[notice] To update, run: python.exe -m pip install --upgrade pip\n"
                    ]
                }
            ],
            "source": [
                "%pip install scikit-learn"
            ]
        },
        {
            "cell_type": "code",
            "execution_count": 15,
            "metadata": {},
            "outputs": [],
            "source": [
                "# Import necessary libraries\n",
                "\n",
                "import numpy as np\n",
                "import pandas as pd\n",
                "import matplotlib.pyplot as plt\n",
                "from sklearn.metrics import mean_squared_error\n",
                "from sklearn.linear_model import LinearRegression\n",
                "from sklearn.model_selection import train_test_split\n",
                "from sklearn.preprocessing import PolynomialFeatures\n",
                "%matplotlib inline\n"
            ]
        },
        {
            "cell_type": "markdown",
            "metadata": {},
            "source": [
                "## Seleccion de modelos"
            ]
        },
        {
            "cell_type": "markdown",
            "metadata": {},
            "source": [
                "## 1. PolynomialFeatures en Scikit-Learn\n",
                "\n",
                "La función `PolynomialFeatures` de Scikit-Learn se utiliza para generar un conjunto de características polinómicas a partir de un conjunto de características existentes. Para un conjunto de características de entrada $ X = [x_1] $, `PolynomialFeatures` genera un nuevo conjunto de características que incluye todas las combinaciones polinómicas de las características originales hasta un cierto grado especificado.\n",
                "\n",
                "### Representación Matemática\n",
                "\n",
                "Dado un conjunto de características de entrada $ X = [x_1] $, la transformación polinómica de grado $ d$ generará un nuevo conjunto de características $ \\Phi(X) $ de la siguiente manera:\n",
                "\n",
                "$$\n",
                "\\Phi(X) = [1, x_1, x_1^2, \\ldots, x_n^d]\n",
                "$$\n",
                "\n",
                "Donde \\( d $ es el grado de las características polinómicas generadas.\n",
                "\n",
                "### Uso en Scikit-Learn\n",
                "\n",
                "```python\n",
                "from sklearn.preprocessing import PolynomialFeatures\n",
                "\n",
                "# Crear un objeto PolynomialFeatures con un grado específico\n",
                "poly = PolynomialFeatures(degree=d)\n",
                "\n",
                "# Transformar el conjunto de características original X\n",
                "X_poly = poly.fit_transform(X)\n",
                "\n",
                "```\n"
            ]
        },
        {
            "cell_type": "code",
            "execution_count": 6,
            "metadata": {},
            "outputs": [
                {
                    "data": {
                        "text/html": [
                            "<div>\n",
                            "<style scoped>\n",
                            "    .dataframe tbody tr th:only-of-type {\n",
                            "        vertical-align: middle;\n",
                            "    }\n",
                            "\n",
                            "    .dataframe tbody tr th {\n",
                            "        vertical-align: top;\n",
                            "    }\n",
                            "\n",
                            "    .dataframe thead th {\n",
                            "        text-align: right;\n",
                            "    }\n",
                            "</style>\n",
                            "<table border=\"1\" class=\"dataframe\">\n",
                            "  <thead>\n",
                            "    <tr style=\"text-align: right;\">\n",
                            "      <th></th>\n",
                            "      <th>x1</th>\n",
                            "      <th>y1</th>\n",
                            "    </tr>\n",
                            "  </thead>\n",
                            "  <tbody>\n",
                            "    <tr>\n",
                            "      <th>0</th>\n",
                            "      <td>0.265960</td>\n",
                            "      <td>1.624972</td>\n",
                            "    </tr>\n",
                            "    <tr>\n",
                            "      <th>1</th>\n",
                            "      <td>0.516805</td>\n",
                            "      <td>2.734012</td>\n",
                            "    </tr>\n",
                            "  </tbody>\n",
                            "</table>\n",
                            "</div>"
                        ],
                        "text/plain": [
                            "         x1        y1\n",
                            "0  0.265960  1.624972\n",
                            "1  0.516805  2.734012"
                        ]
                    },
                    "execution_count": 6,
                    "metadata": {},
                    "output_type": "execute_result"
                }
            ],
            "source": [
                "## Leer los datos \"data_set_1.csv\"\n",
                "df = pd.read_csv('dataset1.csv')\n",
                "df.head(2)"
            ]
        },
        {
            "cell_type": "code",
            "execution_count": 7,
            "metadata": {},
            "outputs": [
                {
                    "data": {
                        "image/png": "[encoded data removed]",
                        "text/plain": [
                            "<Figure size 640x480 with 1 Axes>"
                        ]
                    },
                    "metadata": {},
                    "output_type": "display_data"
                }
            ],
            "source": [
                "# graficar los datos \n",
                "plt.plot(df[\"x1\"], df[\"y1\"], 'o')\n",
                "plt.xlabel(\"Datos de entrada\")\n",
                "plt.ylabel(\"Datos de salida\")\n",
                "plt.title(\"Datos de entrada vs Datos de salida\")\n",
                "plt.show()\n"
            ]
        },
        {
            "cell_type": "code",
            "execution_count": 8,
            "metadata": {},
            "outputs": [],
            "source": [
                "# encontrar la transformacion de polinomios para un grado 3\n",
                "x = df[[\"x1\"]].values\n",
                "y = df[\"y1\"].values\n",
                "poly = PolynomialFeatures(degree=3).fit_transform(x)"
            ]
        },
        {
            "cell_type": "code",
            "execution_count": 9,
            "metadata": {},
            "outputs": [
                {
                    "name": "stdout",
                    "output_type": "stream",
                    "text": [
                        "[[0.26595981]\n",
                        " [0.51680454]\n",
                        " [0.65854208]\n",
                        " [1.67805194]\n",
                        " [2.11246338]]\n"
                    ]
                }
            ],
            "source": [
                "# ver los datos transformados\n",
                "print(x[:5])\n"
            ]
        },
        {
            "cell_type": "code",
            "execution_count": 10,
            "metadata": {},
            "outputs": [
                {
                    "name": "stdout",
                    "output_type": "stream",
                    "text": [
                        "[1.62497183 2.73401223 4.62890802 5.18645478 8.39508824]\n"
                    ]
                }
            ],
            "source": [
                "print(y[:5])"
            ]
        },
        {
            "cell_type": "code",
            "execution_count": 11,
            "metadata": {},
            "outputs": [
                {
                    "name": "stdout",
                    "output_type": "stream",
                    "text": [
                        "[[1.         0.26595981 0.07073462 0.01881257]\n",
                        " [1.         0.51680454 0.26708693 0.13803174]\n",
                        " [1.         0.65854208 0.43367767 0.285595  ]\n",
                        " [1.         1.67805194 2.81585832 4.72515652]\n",
                        " [1.         2.11246338 4.46250154 9.42687108]]\n"
                    ]
                }
            ],
            "source": [
                "print(poly[:5])"
            ]
        },
        {
            "cell_type": "markdown",
            "metadata": {},
            "source": [
                "## 2. Regresion lineal polinomial\n",
                "\n",
                "\n",
                "\n",
                "La regresión lineal polinomial es una técnica de regresión que permite modelar relaciones no lineales entre la variable de entrada $x$ y la variable de salida $y$. En lugar de ajustar una línea recta, la regresión lineal polinomial ajusta un polinomio de grado $d$.\n",
                "\n",
                "### Modelo Matemático\n",
                "\n",
                "El modelo de regresión lineal polinomial de grado $d$ se define como:\n",
                "\n",
                "$$\n",
                "y = w_0 + w_1x + w_2x^2 + \\ldots + w_dx^d + \\varepsilon\n",
                "$$\n",
                "\n",
                "Donde:\n",
                "- $y$ es la variable de salida.\n",
                "- $x$ es la variable de entrada.\n",
                "- $w_0, w_1, \\ldots, w_d$ son los coeficientes del polinomio.\n",
                "- $d$ es el grado del polinomio.\n",
                "- $\\varepsilon$ representa el error aleatorio.\n",
                "\n",
                "### Uso en Scikit-Learn\n",
                "\n",
                "```python\n",
                "from sklearn.preprocessing import PolynomialFeatures\n",
                "from sklearn.linear_model import LinearRegression\n",
                "\n",
                "# Crear características polinómicas de grado d\n",
                "poly = PolynomialFeatures(degree=d)\n",
                "X_poly = poly.fit_transform(X)\n",
                "\n",
                "# Crear modelo de regresión lineal\n",
                "lreg = LinearRegression()\n",
                "\n",
                "# Ajustar el modelo con las características polinómicas y las etiquetas\n",
                "lreg.fit(X_poly, y)\n",
                "\n"
            ]
        },
        {
            "cell_type": "markdown",
            "metadata": {},
            "source": [
                "### 2.1 Modelo de regresion lineal de primer grado"
            ]
        },
        {
            "cell_type": "code",
            "execution_count": 24,
            "metadata": {},
            "outputs": [
                {
                    "data": {
                        "text/plain": [
                            "array([-3.91916231e+00,  3.03086763e+01, -4.63795916e+01,  3.74516144e+01,\n",
                            "       -1.72298042e+01,  4.98534924e+00, -9.48674660e-01,  1.18926733e-01,\n",
                            "       -9.44713206e-03,  4.29841872e-04, -8.50711487e-06])"
                        ]
                    },
                    "execution_count": 24,
                    "metadata": {},
                    "output_type": "execute_result"
                }
            ],
            "source": [
                "## Encontrar los coeficientes de regresion lineal de grado 1\n",
                "## preprouesamiento de los datos\n",
                "xp = PolynomialFeatures(degree=10).fit_transform(x)\n",
                "lreg  = LinearRegression(fit_intercept=False)\n",
                "lreg.fit(xp, y)\n",
                "lreg.coef_"
            ]
        },
        {
            "cell_type": "code",
            "execution_count": 25,
            "metadata": {},
            "outputs": [],
            "source": [
                "# Generar los datos que se encuentren igualmente espaciados\n",
                "# desde el punto minimo y el punto maximo de la variable de entrada\n",
                "\n",
                "xin = np.linspace(x.min(), x.max(), 100).reshape(-1, 1)\n",
                "\n",
                "# transformar x_in a polynomial features de grado 1\n",
                "\n",
                "xin_p = PolynomialFeatures(degree=10).fit_transform(xin)\n",
                "\n",
                "# En base a los coeficientes encontrados en el modelo de regresion lineal \n",
                "# encontrar la prediccion de la variable de salida\n",
                "\n",
                "y_pred = lreg.predict(xin_p)\n"
            ]
        },
        {
            "cell_type": "code",
            "execution_count": 26,
            "metadata": {},
            "outputs": [
                {
                    "data": {
                        "image/png": "[encoded data removed]",
                        "text/plain": [
                            "<Figure size 640x480 with 1 Axes>"
                        ]
                    },
                    "metadata": {},
                    "output_type": "display_data"
                }
            ],
            "source": [
                "# Graficar los datos de entrada y la prediccion encontrada. \n",
                "plt.plot(df[\"x1\"], df[\"y1\"], 'o', label = \"datos de entrada\") # Datos de entrada\n",
                "plt.plot(xin, y_pred, 'r', label = \"modelo de regresion\") # Prediccion \n",
                "plt.legend(loc = \"best\")\n",
                "plt.show()"
            ]
        },
        {
            "cell_type": "code",
            "execution_count": 27,
            "metadata": {},
            "outputs": [
                {
                    "name": "stdout",
                    "output_type": "stream",
                    "text": [
                        "Mean Squared Error:  0.8500851653980264\n"
                    ]
                }
            ],
            "source": [
                "# Encontrar el mean_squared_error de la prediccion\n",
                "# Realizar la prediccion de los datos de entrada xp\n",
                "y_pred = lreg.predict(xp)\n",
                "mse_datos = mean_squared_error(y, y_pred)\n",
                "print(\"Mean Squared Error: \", mse_datos)\n"
            ]
        },
        {
            "cell_type": "markdown",
            "metadata": {},
            "source": [
                "#### ⏸ Si tenemos un polinomio grado 2, y luego se realiza el proceso de regresion lineal, se considera este modelo como un modelo de regresion lineal?"
            ]
        },
        {
            "cell_type": "markdown",
            "metadata": {},
            "source": [
                "Anotar aca la respuesta..."
            ]
        },
        {
            "cell_type": "markdown",
            "metadata": {},
            "source": [
                "### 2.2 Modelo de regresion lineal de grado > 1. "
            ]
        },
        {
            "cell_type": "markdown",
            "metadata": {},
            "source": [
                "Repetir el procedimiento en el punto 2.1 para una regresion lineal de grado: $2, 3, 10, 18$\n",
                "\n",
                "Para cada caso indicar en una grafica el error MSE vs el grado del polinomio"
            ]
        },
        {
            "cell_type": "code",
            "execution_count": null,
            "metadata": {},
            "outputs": [],
            "source": [
                "# tu codigo aca"
            ]
        },
        {
            "cell_type": "code",
            "execution_count": null,
            "metadata": {},
            "outputs": [],
            "source": [
                "# Grafica de los resultados\n"
            ]
        },
        {
            "cell_type": "markdown",
            "metadata": {},
            "source": [
                "#### Comentarios y observaciones:\n",
                "En base a los resultados anteriores... `completar esta seccion`"
            ]
        }
    ],
    "metadata": {
        "kernelspec": {
            "display_name": "Python 3",
            "language": "python",
            "name": "python3"
        },
        "language_info": {
            "codemirror_mode": {
                "name": "ipython",
                "version": 3
            },
            "file_extension": ".py",
            "mimetype": "text/x-python",
            "name": "python",
            "nbconvert_exporter": "python",
            "pygments_lexer": "ipython3",
            "version": "3.12.8"
        }
    },
    "nbformat": 4,
    "nbformat_minor": 4
}
