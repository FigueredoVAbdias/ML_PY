{
    "cells": [
        {
            "cell_type": "markdown",
            "id": "15f70792",
            "metadata": {},
            "source": [
                "# <img style=\"float: left; padding-right: 20px; height: 70px\" src=\"https://i.imgur.com/cMzxwTN.jpg\"> Fundamentos de Machine Learning\n",
                "\n",
                "\n",
                "## **Actividad `II` Sesion 6**\n",
                "## Aprendizaje no supervisado \n",
                "## Hierarchical clustering\n",
                "\n",
                "\n",
                "**Universidad Privada Boliviana**<br/>\n",
                "**Diplomado en Machine Learning y Ciencia de Datos**<br/>\n"
            ]
        },
        {
            "cell_type": "markdown",
            "id": "e75abc42",
            "metadata": {},
            "source": []
        },
        {
            "cell_type": "code",
            "execution_count": 1,
            "id": "99b8d55c",
            "metadata": {},
            "outputs": [],
            "source": [
                "import matplotlib.pyplot as plt\n",
                "import numpy as np\n",
                "import pandas as pd\n",
                "\n",
                "from sklearn.cluster import KMeans\n",
                "from sklearn.decomposition import PCA\n",
                "from scipy.cluster.hierarchy import fcluster, ward, linkage\n",
                "from scipy.spatial.distance import pdist, squareform"
            ]
        },
        {
            "cell_type": "markdown",
            "id": "5b7f15e8",
            "metadata": {},
            "source": [
                "## Conjunto de datos de animales del zoológico\n",
                "\n",
                "El [Zoo Animals Dataset](https://www.kaggle.com/datasets/uciml/zoo-animal-classification?select=zoo.csv) \n",
                "consta de 100 filas únicas, cada una con:\n",
                "- el **nombre** del animal\n",
                "- **16 características binarias** que codifican rasgos de animales\n",
                "- uno de los **7 tipos de clase**: mamífero, ave, reptil, pez, anfibio, insecto e invertebrado.\n"
            ]
        },
        {
            "cell_type": "code",
            "execution_count": 2,
            "id": "3ee4ade7",
            "metadata": {},
            "outputs": [
                {
                    "data": {
                        "application/vnd.microsoft.datawrangler.viewer.v0+json": {
                            "columns": [
                                {
                                    "name": "index",
                                    "rawType": "int64",
                                    "type": "integer"
                                },
                                {
                                    "name": "animal_name",
                                    "rawType": "object",
                                    "type": "string"
                                },
                                {
                                    "name": "hair",
                                    "rawType": "int64",
                                    "type": "integer"
                                },
                                {
                                    "name": "feathers",
                                    "rawType": "int64",
                                    "type": "integer"
                                },
                                {
                                    "name": "eggs",
                                    "rawType": "int64",
                                    "type": "integer"
                                },
                                {
                                    "name": "milk",
                                    "rawType": "int64",
                                    "type": "integer"
                                },
                                {
                                    "name": "airborne",
                                    "rawType": "int64",
                                    "type": "integer"
                                },
                                {
                                    "name": "aquatic",
                                    "rawType": "int64",
                                    "type": "integer"
                                },
                                {
                                    "name": "predator",
                                    "rawType": "int64",
                                    "type": "integer"
                                },
                                {
                                    "name": "toothed",
                                    "rawType": "int64",
                                    "type": "integer"
                                },
                                {
                                    "name": "backbone",
                                    "rawType": "int64",
                                    "type": "integer"
                                },
                                {
                                    "name": "breathes",
                                    "rawType": "int64",
                                    "type": "integer"
                                },
                                {
                                    "name": "venomous",
                                    "rawType": "int64",
                                    "type": "integer"
                                },
                                {
                                    "name": "fins",
                                    "rawType": "int64",
                                    "type": "integer"
                                },
                                {
                                    "name": "legs",
                                    "rawType": "int64",
                                    "type": "integer"
                                },
                                {
                                    "name": "tail",
                                    "rawType": "int64",
                                    "type": "integer"
                                },
                                {
                                    "name": "domestic",
                                    "rawType": "int64",
                                    "type": "integer"
                                },
                                {
                                    "name": "catsize",
                                    "rawType": "int64",
                                    "type": "integer"
                                },
                                {
                                    "name": "class_type",
                                    "rawType": "int64",
                                    "type": "integer"
                                }
                            ],
                            "conversionMethod": "pd.DataFrame",
                            "ref": "7da8d1f3-63dc-46c3-8677-2aaf4ca82381",
                            "rows": [
                                [
                                    "0",
                                    "aardvark",
                                    "1",
                                    "0",
                                    "0",
                                    "1",
                                    "0",
                                    "0",
                                    "1",
                                    "1",
                                    "1",
                                    "1",
                                    "0",
                                    "0",
                                    "4",
                                    "0",
                                    "0",
                                    "1",
                                    "1"
                                ],
                                [
                                    "1",
                                    "antelope",
                                    "1",
                                    "0",
                                    "0",
                                    "1",
                                    "0",
                                    "0",
                                    "0",
                                    "1",
                                    "1",
                                    "1",
                                    "0",
                                    "0",
                                    "4",
                                    "1",
                                    "0",
                                    "1",
                                    "1"
                                ],
                                [
                                    "2",
                                    "bass",
                                    "0",
                                    "0",
                                    "1",
                                    "0",
                                    "0",
                                    "1",
                                    "1",
                                    "1",
                                    "1",
                                    "0",
                                    "0",
                                    "1",
                                    "0",
                                    "1",
                                    "0",
                                    "0",
                                    "4"
                                ],
                                [
                                    "3",
                                    "bear",
                                    "1",
                                    "0",
                                    "0",
                                    "1",
                                    "0",
                                    "0",
                                    "1",
                                    "1",
                                    "1",
                                    "1",
                                    "0",
                                    "0",
                                    "4",
                                    "0",
                                    "0",
                                    "1",
                                    "1"
                                ],
                                [
                                    "4",
                                    "boar",
                                    "1",
                                    "0",
                                    "0",
                                    "1",
                                    "0",
                                    "0",
                                    "1",
                                    "1",
                                    "1",
                                    "1",
                                    "0",
                                    "0",
                                    "4",
                                    "1",
                                    "0",
                                    "1",
                                    "1"
                                ]
                            ],
                            "shape": {
                                "columns": 18,
                                "rows": 5
                            }
                        },
                        "text/html": [
                            "<div>\n",
                            "<style scoped>\n",
                            "    .dataframe tbody tr th:only-of-type {\n",
                            "        vertical-align: middle;\n",
                            "    }\n",
                            "\n",
                            "    .dataframe tbody tr th {\n",
                            "        vertical-align: top;\n",
                            "    }\n",
                            "\n",
                            "    .dataframe thead th {\n",
                            "        text-align: right;\n",
                            "    }\n",
                            "</style>\n",
                            "<table border=\"1\" class=\"dataframe\">\n",
                            "  <thead>\n",
                            "    <tr style=\"text-align: right;\">\n",
                            "      <th></th>\n",
                            "      <th>animal_name</th>\n",
                            "      <th>hair</th>\n",
                            "      <th>feathers</th>\n",
                            "      <th>eggs</th>\n",
                            "      <th>milk</th>\n",
                            "      <th>airborne</th>\n",
                            "      <th>aquatic</th>\n",
                            "      <th>predator</th>\n",
                            "      <th>toothed</th>\n",
                            "      <th>backbone</th>\n",
                            "      <th>breathes</th>\n",
                            "      <th>venomous</th>\n",
                            "      <th>fins</th>\n",
                            "      <th>legs</th>\n",
                            "      <th>tail</th>\n",
                            "      <th>domestic</th>\n",
                            "      <th>catsize</th>\n",
                            "      <th>class_type</th>\n",
                            "    </tr>\n",
                            "  </thead>\n",
                            "  <tbody>\n",
                            "    <tr>\n",
                            "      <th>0</th>\n",
                            "      <td>aardvark</td>\n",
                            "      <td>1</td>\n",
                            "      <td>0</td>\n",
                            "      <td>0</td>\n",
                            "      <td>1</td>\n",
                            "      <td>0</td>\n",
                            "      <td>0</td>\n",
                            "      <td>1</td>\n",
                            "      <td>1</td>\n",
                            "      <td>1</td>\n",
                            "      <td>1</td>\n",
                            "      <td>0</td>\n",
                            "      <td>0</td>\n",
                            "      <td>4</td>\n",
                            "      <td>0</td>\n",
                            "      <td>0</td>\n",
                            "      <td>1</td>\n",
                            "      <td>1</td>\n",
                            "    </tr>\n",
                            "    <tr>\n",
                            "      <th>1</th>\n",
                            "      <td>antelope</td>\n",
                            "      <td>1</td>\n",
                            "      <td>0</td>\n",
                            "      <td>0</td>\n",
                            "      <td>1</td>\n",
                            "      <td>0</td>\n",
                            "      <td>0</td>\n",
                            "      <td>0</td>\n",
                            "      <td>1</td>\n",
                            "      <td>1</td>\n",
                            "      <td>1</td>\n",
                            "      <td>0</td>\n",
                            "      <td>0</td>\n",
                            "      <td>4</td>\n",
                            "      <td>1</td>\n",
                            "      <td>0</td>\n",
                            "      <td>1</td>\n",
                            "      <td>1</td>\n",
                            "    </tr>\n",
                            "    <tr>\n",
                            "      <th>2</th>\n",
                            "      <td>bass</td>\n",
                            "      <td>0</td>\n",
                            "      <td>0</td>\n",
                            "      <td>1</td>\n",
                            "      <td>0</td>\n",
                            "      <td>0</td>\n",
                            "      <td>1</td>\n",
                            "      <td>1</td>\n",
                            "      <td>1</td>\n",
                            "      <td>1</td>\n",
                            "      <td>0</td>\n",
                            "      <td>0</td>\n",
                            "      <td>1</td>\n",
                            "      <td>0</td>\n",
                            "      <td>1</td>\n",
                            "      <td>0</td>\n",
                            "      <td>0</td>\n",
                            "      <td>4</td>\n",
                            "    </tr>\n",
                            "    <tr>\n",
                            "      <th>3</th>\n",
                            "      <td>bear</td>\n",
                            "      <td>1</td>\n",
                            "      <td>0</td>\n",
                            "      <td>0</td>\n",
                            "      <td>1</td>\n",
                            "      <td>0</td>\n",
                            "      <td>0</td>\n",
                            "      <td>1</td>\n",
                            "      <td>1</td>\n",
                            "      <td>1</td>\n",
                            "      <td>1</td>\n",
                            "      <td>0</td>\n",
                            "      <td>0</td>\n",
                            "      <td>4</td>\n",
                            "      <td>0</td>\n",
                            "      <td>0</td>\n",
                            "      <td>1</td>\n",
                            "      <td>1</td>\n",
                            "    </tr>\n",
                            "    <tr>\n",
                            "      <th>4</th>\n",
                            "      <td>boar</td>\n",
                            "      <td>1</td>\n",
                            "      <td>0</td>\n",
                            "      <td>0</td>\n",
                            "      <td>1</td>\n",
                            "      <td>0</td>\n",
                            "      <td>0</td>\n",
                            "      <td>1</td>\n",
                            "      <td>1</td>\n",
                            "      <td>1</td>\n",
                            "      <td>1</td>\n",
                            "      <td>0</td>\n",
                            "      <td>0</td>\n",
                            "      <td>4</td>\n",
                            "      <td>1</td>\n",
                            "      <td>0</td>\n",
                            "      <td>1</td>\n",
                            "      <td>1</td>\n",
                            "    </tr>\n",
                            "  </tbody>\n",
                            "</table>\n",
                            "</div>"
                        ],
                        "text/plain": [
                            "  animal_name  hair  feathers  eggs  milk  airborne  aquatic  predator  \\\n",
                            "0    aardvark     1         0     0     1         0        0         1   \n",
                            "1    antelope     1         0     0     1         0        0         0   \n",
                            "2        bass     0         0     1     0         0        1         1   \n",
                            "3        bear     1         0     0     1         0        0         1   \n",
                            "4        boar     1         0     0     1         0        0         1   \n",
                            "\n",
                            "   toothed  backbone  breathes  venomous  fins  legs  tail  domestic  catsize  \\\n",
                            "0        1         1         1         0     0     4     0         0        1   \n",
                            "1        1         1         1         0     0     4     1         0        1   \n",
                            "2        1         1         0         0     1     0     1         0        0   \n",
                            "3        1         1         1         0     0     4     0         0        1   \n",
                            "4        1         1         1         0     0     4     1         0        1   \n",
                            "\n",
                            "   class_type  \n",
                            "0           1  \n",
                            "1           1  \n",
                            "2           4  \n",
                            "3           1  \n",
                            "4           1  "
                        ]
                    },
                    "execution_count": 2,
                    "metadata": {},
                    "output_type": "execute_result"
                }
            ],
            "source": [
                "# leer los datos\n",
                "df=pd.read_csv(\"data/zoo.csv\")\n",
                "df.head()\n",
                "# si no es domestico es 0, si tiene cola tiene 1\n"
            ]
        },
        {
            "cell_type": "code",
            "execution_count": 3,
            "id": "ae38c087",
            "metadata": {},
            "outputs": [],
            "source": [
                "# Verificar si existen elementos duplicados en las filas\n",
                "filtro= df.duplicated(subset=\"animal_name\")\n",
                "# elimine la fila duplicada animal_name del conjunto de datos original.\n",
                "df= df[-filtro].reset_index(drop=True)\n"
            ]
        },
        {
            "cell_type": "code",
            "execution_count": 4,
            "id": "be736620",
            "metadata": {},
            "outputs": [
                {
                    "data": {
                        "text/html": [
                            "<div>\n",
                            "<style scoped>\n",
                            "    .dataframe tbody tr th:only-of-type {\n",
                            "        vertical-align: middle;\n",
                            "    }\n",
                            "\n",
                            "    .dataframe tbody tr th {\n",
                            "        vertical-align: top;\n",
                            "    }\n",
                            "\n",
                            "    .dataframe thead th {\n",
                            "        text-align: right;\n",
                            "    }\n",
                            "</style>\n",
                            "<table border=\"1\" class=\"dataframe\">\n",
                            "  <thead>\n",
                            "    <tr style=\"text-align: right;\">\n",
                            "      <th></th>\n",
                            "      <th>animal_name</th>\n",
                            "      <th>hair</th>\n",
                            "      <th>feathers</th>\n",
                            "      <th>eggs</th>\n",
                            "      <th>milk</th>\n",
                            "      <th>airborne</th>\n",
                            "      <th>aquatic</th>\n",
                            "      <th>predator</th>\n",
                            "      <th>toothed</th>\n",
                            "      <th>backbone</th>\n",
                            "      <th>breathes</th>\n",
                            "      <th>venomous</th>\n",
                            "      <th>fins</th>\n",
                            "      <th>legs</th>\n",
                            "      <th>tail</th>\n",
                            "      <th>domestic</th>\n",
                            "      <th>catsize</th>\n",
                            "      <th>class_type</th>\n",
                            "    </tr>\n",
                            "  </thead>\n",
                            "  <tbody>\n",
                            "    <tr>\n",
                            "      <th>0</th>\n",
                            "      <td>aardvark</td>\n",
                            "      <td>1</td>\n",
                            "      <td>0</td>\n",
                            "      <td>0</td>\n",
                            "      <td>1</td>\n",
                            "      <td>0</td>\n",
                            "      <td>0</td>\n",
                            "      <td>1</td>\n",
                            "      <td>1</td>\n",
                            "      <td>1</td>\n",
                            "      <td>1</td>\n",
                            "      <td>0</td>\n",
                            "      <td>0</td>\n",
                            "      <td>4</td>\n",
                            "      <td>0</td>\n",
                            "      <td>0</td>\n",
                            "      <td>1</td>\n",
                            "      <td>1</td>\n",
                            "    </tr>\n",
                            "    <tr>\n",
                            "      <th>1</th>\n",
                            "      <td>antelope</td>\n",
                            "      <td>1</td>\n",
                            "      <td>0</td>\n",
                            "      <td>0</td>\n",
                            "      <td>1</td>\n",
                            "      <td>0</td>\n",
                            "      <td>0</td>\n",
                            "      <td>0</td>\n",
                            "      <td>1</td>\n",
                            "      <td>1</td>\n",
                            "      <td>1</td>\n",
                            "      <td>0</td>\n",
                            "      <td>0</td>\n",
                            "      <td>4</td>\n",
                            "      <td>1</td>\n",
                            "      <td>0</td>\n",
                            "      <td>1</td>\n",
                            "      <td>1</td>\n",
                            "    </tr>\n",
                            "    <tr>\n",
                            "      <th>2</th>\n",
                            "      <td>bass</td>\n",
                            "      <td>0</td>\n",
                            "      <td>0</td>\n",
                            "      <td>1</td>\n",
                            "      <td>0</td>\n",
                            "      <td>0</td>\n",
                            "      <td>1</td>\n",
                            "      <td>1</td>\n",
                            "      <td>1</td>\n",
                            "      <td>1</td>\n",
                            "      <td>0</td>\n",
                            "      <td>0</td>\n",
                            "      <td>1</td>\n",
                            "      <td>0</td>\n",
                            "      <td>1</td>\n",
                            "      <td>0</td>\n",
                            "      <td>0</td>\n",
                            "      <td>4</td>\n",
                            "    </tr>\n",
                            "    <tr>\n",
                            "      <th>3</th>\n",
                            "      <td>bear</td>\n",
                            "      <td>1</td>\n",
                            "      <td>0</td>\n",
                            "      <td>0</td>\n",
                            "      <td>1</td>\n",
                            "      <td>0</td>\n",
                            "      <td>0</td>\n",
                            "      <td>1</td>\n",
                            "      <td>1</td>\n",
                            "      <td>1</td>\n",
                            "      <td>1</td>\n",
                            "      <td>0</td>\n",
                            "      <td>0</td>\n",
                            "      <td>4</td>\n",
                            "      <td>0</td>\n",
                            "      <td>0</td>\n",
                            "      <td>1</td>\n",
                            "      <td>1</td>\n",
                            "    </tr>\n",
                            "    <tr>\n",
                            "      <th>4</th>\n",
                            "      <td>boar</td>\n",
                            "      <td>1</td>\n",
                            "      <td>0</td>\n",
                            "      <td>0</td>\n",
                            "      <td>1</td>\n",
                            "      <td>0</td>\n",
                            "      <td>0</td>\n",
                            "      <td>1</td>\n",
                            "      <td>1</td>\n",
                            "      <td>1</td>\n",
                            "      <td>1</td>\n",
                            "      <td>0</td>\n",
                            "      <td>0</td>\n",
                            "      <td>4</td>\n",
                            "      <td>1</td>\n",
                            "      <td>0</td>\n",
                            "      <td>1</td>\n",
                            "      <td>1</td>\n",
                            "    </tr>\n",
                            "  </tbody>\n",
                            "</table>\n",
                            "</div>"
                        ],
                        "text/plain": [
                            "  animal_name  hair  feathers  eggs  milk  airborne  aquatic  predator  \\\n",
                            "0    aardvark     1         0     0     1         0        0         1   \n",
                            "1    antelope     1         0     0     1         0        0         0   \n",
                            "2        bass     0         0     1     0         0        1         1   \n",
                            "3        bear     1         0     0     1         0        0         1   \n",
                            "4        boar     1         0     0     1         0        0         1   \n",
                            "\n",
                            "   toothed  backbone  breathes  venomous  fins  legs  tail  domestic  catsize  \\\n",
                            "0        1         1         1         0     0     4     0         0        1   \n",
                            "1        1         1         1         0     0     4     1         0        1   \n",
                            "2        1         1         0         0     1     0     1         0        0   \n",
                            "3        1         1         1         0     0     4     0         0        1   \n",
                            "4        1         1         1         0     0     4     1         0        1   \n",
                            "\n",
                            "   class_type  \n",
                            "0           1  \n",
                            "1           1  \n",
                            "2           4  \n",
                            "3           1  \n",
                            "4           1  "
                        ]
                    },
                    "execution_count": 4,
                    "metadata": {},
                    "output_type": "execute_result"
                }
            ],
            "source": [
                "df.head()"
            ]
        },
        {
            "cell_type": "code",
            "execution_count": 4,
            "id": "d3760cf5",
            "metadata": {},
            "outputs": [
                {
                    "data": {
                        "application/vnd.microsoft.datawrangler.viewer.v0+json": {
                            "columns": [
                                {
                                    "name": "index",
                                    "rawType": "int64",
                                    "type": "integer"
                                },
                                {
                                    "name": "hair",
                                    "rawType": "int64",
                                    "type": "integer"
                                },
                                {
                                    "name": "feathers",
                                    "rawType": "int64",
                                    "type": "integer"
                                },
                                {
                                    "name": "eggs",
                                    "rawType": "int64",
                                    "type": "integer"
                                },
                                {
                                    "name": "milk",
                                    "rawType": "int64",
                                    "type": "integer"
                                },
                                {
                                    "name": "airborne",
                                    "rawType": "int64",
                                    "type": "integer"
                                },
                                {
                                    "name": "aquatic",
                                    "rawType": "int64",
                                    "type": "integer"
                                },
                                {
                                    "name": "predator",
                                    "rawType": "int64",
                                    "type": "integer"
                                },
                                {
                                    "name": "toothed",
                                    "rawType": "int64",
                                    "type": "integer"
                                },
                                {
                                    "name": "backbone",
                                    "rawType": "int64",
                                    "type": "integer"
                                },
                                {
                                    "name": "breathes",
                                    "rawType": "int64",
                                    "type": "integer"
                                },
                                {
                                    "name": "venomous",
                                    "rawType": "int64",
                                    "type": "integer"
                                },
                                {
                                    "name": "fins",
                                    "rawType": "int64",
                                    "type": "integer"
                                },
                                {
                                    "name": "legs",
                                    "rawType": "int64",
                                    "type": "integer"
                                },
                                {
                                    "name": "tail",
                                    "rawType": "int64",
                                    "type": "integer"
                                },
                                {
                                    "name": "domestic",
                                    "rawType": "int64",
                                    "type": "integer"
                                },
                                {
                                    "name": "catsize",
                                    "rawType": "int64",
                                    "type": "integer"
                                }
                            ],
                            "conversionMethod": "pd.DataFrame",
                            "ref": "4399372f-fbe2-4da5-906f-e87a13870fc1",
                            "rows": [
                                [
                                    "0",
                                    "1",
                                    "0",
                                    "0",
                                    "1",
                                    "0",
                                    "0",
                                    "1",
                                    "1",
                                    "1",
                                    "1",
                                    "0",
                                    "0",
                                    "4",
                                    "0",
                                    "0",
                                    "1"
                                ],
                                [
                                    "1",
                                    "1",
                                    "0",
                                    "0",
                                    "1",
                                    "0",
                                    "0",
                                    "0",
                                    "1",
                                    "1",
                                    "1",
                                    "0",
                                    "0",
                                    "4",
                                    "1",
                                    "0",
                                    "1"
                                ],
                                [
                                    "2",
                                    "0",
                                    "0",
                                    "1",
                                    "0",
                                    "0",
                                    "1",
                                    "1",
                                    "1",
                                    "1",
                                    "0",
                                    "0",
                                    "1",
                                    "0",
                                    "1",
                                    "0",
                                    "0"
                                ],
                                [
                                    "3",
                                    "1",
                                    "0",
                                    "0",
                                    "1",
                                    "0",
                                    "0",
                                    "1",
                                    "1",
                                    "1",
                                    "1",
                                    "0",
                                    "0",
                                    "4",
                                    "0",
                                    "0",
                                    "1"
                                ],
                                [
                                    "4",
                                    "1",
                                    "0",
                                    "0",
                                    "1",
                                    "0",
                                    "0",
                                    "1",
                                    "1",
                                    "1",
                                    "1",
                                    "0",
                                    "0",
                                    "4",
                                    "1",
                                    "0",
                                    "1"
                                ]
                            ],
                            "shape": {
                                "columns": 16,
                                "rows": 5
                            }
                        },
                        "text/html": [
                            "<div>\n",
                            "<style scoped>\n",
                            "    .dataframe tbody tr th:only-of-type {\n",
                            "        vertical-align: middle;\n",
                            "    }\n",
                            "\n",
                            "    .dataframe tbody tr th {\n",
                            "        vertical-align: top;\n",
                            "    }\n",
                            "\n",
                            "    .dataframe thead th {\n",
                            "        text-align: right;\n",
                            "    }\n",
                            "</style>\n",
                            "<table border=\"1\" class=\"dataframe\">\n",
                            "  <thead>\n",
                            "    <tr style=\"text-align: right;\">\n",
                            "      <th></th>\n",
                            "      <th>hair</th>\n",
                            "      <th>feathers</th>\n",
                            "      <th>eggs</th>\n",
                            "      <th>milk</th>\n",
                            "      <th>airborne</th>\n",
                            "      <th>aquatic</th>\n",
                            "      <th>predator</th>\n",
                            "      <th>toothed</th>\n",
                            "      <th>backbone</th>\n",
                            "      <th>breathes</th>\n",
                            "      <th>venomous</th>\n",
                            "      <th>fins</th>\n",
                            "      <th>legs</th>\n",
                            "      <th>tail</th>\n",
                            "      <th>domestic</th>\n",
                            "      <th>catsize</th>\n",
                            "    </tr>\n",
                            "  </thead>\n",
                            "  <tbody>\n",
                            "    <tr>\n",
                            "      <th>0</th>\n",
                            "      <td>1</td>\n",
                            "      <td>0</td>\n",
                            "      <td>0</td>\n",
                            "      <td>1</td>\n",
                            "      <td>0</td>\n",
                            "      <td>0</td>\n",
                            "      <td>1</td>\n",
                            "      <td>1</td>\n",
                            "      <td>1</td>\n",
                            "      <td>1</td>\n",
                            "      <td>0</td>\n",
                            "      <td>0</td>\n",
                            "      <td>4</td>\n",
                            "      <td>0</td>\n",
                            "      <td>0</td>\n",
                            "      <td>1</td>\n",
                            "    </tr>\n",
                            "    <tr>\n",
                            "      <th>1</th>\n",
                            "      <td>1</td>\n",
                            "      <td>0</td>\n",
                            "      <td>0</td>\n",
                            "      <td>1</td>\n",
                            "      <td>0</td>\n",
                            "      <td>0</td>\n",
                            "      <td>0</td>\n",
                            "      <td>1</td>\n",
                            "      <td>1</td>\n",
                            "      <td>1</td>\n",
                            "      <td>0</td>\n",
                            "      <td>0</td>\n",
                            "      <td>4</td>\n",
                            "      <td>1</td>\n",
                            "      <td>0</td>\n",
                            "      <td>1</td>\n",
                            "    </tr>\n",
                            "    <tr>\n",
                            "      <th>2</th>\n",
                            "      <td>0</td>\n",
                            "      <td>0</td>\n",
                            "      <td>1</td>\n",
                            "      <td>0</td>\n",
                            "      <td>0</td>\n",
                            "      <td>1</td>\n",
                            "      <td>1</td>\n",
                            "      <td>1</td>\n",
                            "      <td>1</td>\n",
                            "      <td>0</td>\n",
                            "      <td>0</td>\n",
                            "      <td>1</td>\n",
                            "      <td>0</td>\n",
                            "      <td>1</td>\n",
                            "      <td>0</td>\n",
                            "      <td>0</td>\n",
                            "    </tr>\n",
                            "    <tr>\n",
                            "      <th>3</th>\n",
                            "      <td>1</td>\n",
                            "      <td>0</td>\n",
                            "      <td>0</td>\n",
                            "      <td>1</td>\n",
                            "      <td>0</td>\n",
                            "      <td>0</td>\n",
                            "      <td>1</td>\n",
                            "      <td>1</td>\n",
                            "      <td>1</td>\n",
                            "      <td>1</td>\n",
                            "      <td>0</td>\n",
                            "      <td>0</td>\n",
                            "      <td>4</td>\n",
                            "      <td>0</td>\n",
                            "      <td>0</td>\n",
                            "      <td>1</td>\n",
                            "    </tr>\n",
                            "    <tr>\n",
                            "      <th>4</th>\n",
                            "      <td>1</td>\n",
                            "      <td>0</td>\n",
                            "      <td>0</td>\n",
                            "      <td>1</td>\n",
                            "      <td>0</td>\n",
                            "      <td>0</td>\n",
                            "      <td>1</td>\n",
                            "      <td>1</td>\n",
                            "      <td>1</td>\n",
                            "      <td>1</td>\n",
                            "      <td>0</td>\n",
                            "      <td>0</td>\n",
                            "      <td>4</td>\n",
                            "      <td>1</td>\n",
                            "      <td>0</td>\n",
                            "      <td>1</td>\n",
                            "    </tr>\n",
                            "  </tbody>\n",
                            "</table>\n",
                            "</div>"
                        ],
                        "text/plain": [
                            "   hair  feathers  eggs  milk  airborne  aquatic  predator  toothed  backbone  \\\n",
                            "0     1         0     0     1         0        0         1        1         1   \n",
                            "1     1         0     0     1         0        0         0        1         1   \n",
                            "2     0         0     1     0         0        1         1        1         1   \n",
                            "3     1         0     0     1         0        0         1        1         1   \n",
                            "4     1         0     0     1         0        0         1        1         1   \n",
                            "\n",
                            "   breathes  venomous  fins  legs  tail  domestic  catsize  \n",
                            "0         1         0     0     4     0         0        1  \n",
                            "1         1         0     0     4     1         0        1  \n",
                            "2         0         0     1     0     1         0        0  \n",
                            "3         1         0     0     4     0         0        1  \n",
                            "4         1         0     0     4     1         0        1  "
                        ]
                    },
                    "execution_count": 4,
                    "metadata": {},
                    "output_type": "execute_result"
                }
            ],
            "source": [
                "#manera de especificar estas columnas con variables\n",
                "#si tiene pelo y produce leche que se cree una columna para saber\n",
                "#se borra las columnas que no se necesita yse hace agrupamiento\n",
                "#no se tiene etiquetas\n",
                "X= df.drop([\"animal_name\",\"class_type\"],axis=1)\n",
                "X.head()\n"
            ]
        },
        {
            "cell_type": "code",
            "execution_count": 5,
            "id": "d6db3eb1",
            "metadata": {},
            "outputs": [
                {
                    "data": {
                        "application/vnd.microsoft.datawrangler.viewer.v0+json": {
                            "columns": [
                                {
                                    "name": "index",
                                    "rawType": "int64",
                                    "type": "integer"
                                },
                                {
                                    "name": "hair",
                                    "rawType": "int64",
                                    "type": "integer"
                                },
                                {
                                    "name": "feathers",
                                    "rawType": "int64",
                                    "type": "integer"
                                },
                                {
                                    "name": "eggs",
                                    "rawType": "int64",
                                    "type": "integer"
                                },
                                {
                                    "name": "milk",
                                    "rawType": "int64",
                                    "type": "integer"
                                },
                                {
                                    "name": "airborne",
                                    "rawType": "int64",
                                    "type": "integer"
                                },
                                {
                                    "name": "aquatic",
                                    "rawType": "int64",
                                    "type": "integer"
                                },
                                {
                                    "name": "predator",
                                    "rawType": "int64",
                                    "type": "integer"
                                },
                                {
                                    "name": "toothed",
                                    "rawType": "int64",
                                    "type": "integer"
                                },
                                {
                                    "name": "backbone",
                                    "rawType": "int64",
                                    "type": "integer"
                                },
                                {
                                    "name": "breathes",
                                    "rawType": "int64",
                                    "type": "integer"
                                },
                                {
                                    "name": "venomous",
                                    "rawType": "int64",
                                    "type": "integer"
                                },
                                {
                                    "name": "fins",
                                    "rawType": "int64",
                                    "type": "integer"
                                },
                                {
                                    "name": "tail",
                                    "rawType": "int64",
                                    "type": "integer"
                                },
                                {
                                    "name": "domestic",
                                    "rawType": "int64",
                                    "type": "integer"
                                },
                                {
                                    "name": "catsize",
                                    "rawType": "int64",
                                    "type": "integer"
                                },
                                {
                                    "name": "legs_0",
                                    "rawType": "int64",
                                    "type": "integer"
                                },
                                {
                                    "name": "legs_2",
                                    "rawType": "int64",
                                    "type": "integer"
                                },
                                {
                                    "name": "legs_4",
                                    "rawType": "int64",
                                    "type": "integer"
                                },
                                {
                                    "name": "legs_5",
                                    "rawType": "int64",
                                    "type": "integer"
                                },
                                {
                                    "name": "legs_6",
                                    "rawType": "int64",
                                    "type": "integer"
                                },
                                {
                                    "name": "legs_8",
                                    "rawType": "int64",
                                    "type": "integer"
                                }
                            ],
                            "conversionMethod": "pd.DataFrame",
                            "ref": "ee923332-339a-460e-8877-0daeb0738c0e",
                            "rows": [
                                [
                                    "0",
                                    "1",
                                    "0",
                                    "0",
                                    "1",
                                    "0",
                                    "0",
                                    "1",
                                    "1",
                                    "1",
                                    "1",
                                    "0",
                                    "0",
                                    "0",
                                    "0",
                                    "1",
                                    "0",
                                    "0",
                                    "1",
                                    "0",
                                    "0",
                                    "0"
                                ],
                                [
                                    "1",
                                    "1",
                                    "0",
                                    "0",
                                    "1",
                                    "0",
                                    "0",
                                    "0",
                                    "1",
                                    "1",
                                    "1",
                                    "0",
                                    "0",
                                    "1",
                                    "0",
                                    "1",
                                    "0",
                                    "0",
                                    "1",
                                    "0",
                                    "0",
                                    "0"
                                ],
                                [
                                    "2",
                                    "0",
                                    "0",
                                    "1",
                                    "0",
                                    "0",
                                    "1",
                                    "1",
                                    "1",
                                    "1",
                                    "0",
                                    "0",
                                    "1",
                                    "1",
                                    "0",
                                    "0",
                                    "1",
                                    "0",
                                    "0",
                                    "0",
                                    "0",
                                    "0"
                                ],
                                [
                                    "3",
                                    "1",
                                    "0",
                                    "0",
                                    "1",
                                    "0",
                                    "0",
                                    "1",
                                    "1",
                                    "1",
                                    "1",
                                    "0",
                                    "0",
                                    "0",
                                    "0",
                                    "1",
                                    "0",
                                    "0",
                                    "1",
                                    "0",
                                    "0",
                                    "0"
                                ],
                                [
                                    "4",
                                    "1",
                                    "0",
                                    "0",
                                    "1",
                                    "0",
                                    "0",
                                    "1",
                                    "1",
                                    "1",
                                    "1",
                                    "0",
                                    "0",
                                    "1",
                                    "0",
                                    "1",
                                    "0",
                                    "0",
                                    "1",
                                    "0",
                                    "0",
                                    "0"
                                ]
                            ],
                            "shape": {
                                "columns": 21,
                                "rows": 5
                            }
                        },
                        "text/html": [
                            "<div>\n",
                            "<style scoped>\n",
                            "    .dataframe tbody tr th:only-of-type {\n",
                            "        vertical-align: middle;\n",
                            "    }\n",
                            "\n",
                            "    .dataframe tbody tr th {\n",
                            "        vertical-align: top;\n",
                            "    }\n",
                            "\n",
                            "    .dataframe thead th {\n",
                            "        text-align: right;\n",
                            "    }\n",
                            "</style>\n",
                            "<table border=\"1\" class=\"dataframe\">\n",
                            "  <thead>\n",
                            "    <tr style=\"text-align: right;\">\n",
                            "      <th></th>\n",
                            "      <th>hair</th>\n",
                            "      <th>feathers</th>\n",
                            "      <th>eggs</th>\n",
                            "      <th>milk</th>\n",
                            "      <th>airborne</th>\n",
                            "      <th>aquatic</th>\n",
                            "      <th>predator</th>\n",
                            "      <th>toothed</th>\n",
                            "      <th>backbone</th>\n",
                            "      <th>breathes</th>\n",
                            "      <th>...</th>\n",
                            "      <th>fins</th>\n",
                            "      <th>tail</th>\n",
                            "      <th>domestic</th>\n",
                            "      <th>catsize</th>\n",
                            "      <th>legs_0</th>\n",
                            "      <th>legs_2</th>\n",
                            "      <th>legs_4</th>\n",
                            "      <th>legs_5</th>\n",
                            "      <th>legs_6</th>\n",
                            "      <th>legs_8</th>\n",
                            "    </tr>\n",
                            "  </thead>\n",
                            "  <tbody>\n",
                            "    <tr>\n",
                            "      <th>0</th>\n",
                            "      <td>1</td>\n",
                            "      <td>0</td>\n",
                            "      <td>0</td>\n",
                            "      <td>1</td>\n",
                            "      <td>0</td>\n",
                            "      <td>0</td>\n",
                            "      <td>1</td>\n",
                            "      <td>1</td>\n",
                            "      <td>1</td>\n",
                            "      <td>1</td>\n",
                            "      <td>...</td>\n",
                            "      <td>0</td>\n",
                            "      <td>0</td>\n",
                            "      <td>0</td>\n",
                            "      <td>1</td>\n",
                            "      <td>0</td>\n",
                            "      <td>0</td>\n",
                            "      <td>1</td>\n",
                            "      <td>0</td>\n",
                            "      <td>0</td>\n",
                            "      <td>0</td>\n",
                            "    </tr>\n",
                            "    <tr>\n",
                            "      <th>1</th>\n",
                            "      <td>1</td>\n",
                            "      <td>0</td>\n",
                            "      <td>0</td>\n",
                            "      <td>1</td>\n",
                            "      <td>0</td>\n",
                            "      <td>0</td>\n",
                            "      <td>0</td>\n",
                            "      <td>1</td>\n",
                            "      <td>1</td>\n",
                            "      <td>1</td>\n",
                            "      <td>...</td>\n",
                            "      <td>0</td>\n",
                            "      <td>1</td>\n",
                            "      <td>0</td>\n",
                            "      <td>1</td>\n",
                            "      <td>0</td>\n",
                            "      <td>0</td>\n",
                            "      <td>1</td>\n",
                            "      <td>0</td>\n",
                            "      <td>0</td>\n",
                            "      <td>0</td>\n",
                            "    </tr>\n",
                            "    <tr>\n",
                            "      <th>2</th>\n",
                            "      <td>0</td>\n",
                            "      <td>0</td>\n",
                            "      <td>1</td>\n",
                            "      <td>0</td>\n",
                            "      <td>0</td>\n",
                            "      <td>1</td>\n",
                            "      <td>1</td>\n",
                            "      <td>1</td>\n",
                            "      <td>1</td>\n",
                            "      <td>0</td>\n",
                            "      <td>...</td>\n",
                            "      <td>1</td>\n",
                            "      <td>1</td>\n",
                            "      <td>0</td>\n",
                            "      <td>0</td>\n",
                            "      <td>1</td>\n",
                            "      <td>0</td>\n",
                            "      <td>0</td>\n",
                            "      <td>0</td>\n",
                            "      <td>0</td>\n",
                            "      <td>0</td>\n",
                            "    </tr>\n",
                            "    <tr>\n",
                            "      <th>3</th>\n",
                            "      <td>1</td>\n",
                            "      <td>0</td>\n",
                            "      <td>0</td>\n",
                            "      <td>1</td>\n",
                            "      <td>0</td>\n",
                            "      <td>0</td>\n",
                            "      <td>1</td>\n",
                            "      <td>1</td>\n",
                            "      <td>1</td>\n",
                            "      <td>1</td>\n",
                            "      <td>...</td>\n",
                            "      <td>0</td>\n",
                            "      <td>0</td>\n",
                            "      <td>0</td>\n",
                            "      <td>1</td>\n",
                            "      <td>0</td>\n",
                            "      <td>0</td>\n",
                            "      <td>1</td>\n",
                            "      <td>0</td>\n",
                            "      <td>0</td>\n",
                            "      <td>0</td>\n",
                            "    </tr>\n",
                            "    <tr>\n",
                            "      <th>4</th>\n",
                            "      <td>1</td>\n",
                            "      <td>0</td>\n",
                            "      <td>0</td>\n",
                            "      <td>1</td>\n",
                            "      <td>0</td>\n",
                            "      <td>0</td>\n",
                            "      <td>1</td>\n",
                            "      <td>1</td>\n",
                            "      <td>1</td>\n",
                            "      <td>1</td>\n",
                            "      <td>...</td>\n",
                            "      <td>0</td>\n",
                            "      <td>1</td>\n",
                            "      <td>0</td>\n",
                            "      <td>1</td>\n",
                            "      <td>0</td>\n",
                            "      <td>0</td>\n",
                            "      <td>1</td>\n",
                            "      <td>0</td>\n",
                            "      <td>0</td>\n",
                            "      <td>0</td>\n",
                            "    </tr>\n",
                            "  </tbody>\n",
                            "</table>\n",
                            "<p>5 rows × 21 columns</p>\n",
                            "</div>"
                        ],
                        "text/plain": [
                            "   hair  feathers  eggs  milk  airborne  aquatic  predator  toothed  backbone  \\\n",
                            "0     1         0     0     1         0        0         1        1         1   \n",
                            "1     1         0     0     1         0        0         0        1         1   \n",
                            "2     0         0     1     0         0        1         1        1         1   \n",
                            "3     1         0     0     1         0        0         1        1         1   \n",
                            "4     1         0     0     1         0        0         1        1         1   \n",
                            "\n",
                            "   breathes  ...  fins  tail  domestic  catsize  legs_0  legs_2  legs_4  \\\n",
                            "0         1  ...     0     0         0        1       0       0       1   \n",
                            "1         1  ...     0     1         0        1       0       0       1   \n",
                            "2         0  ...     1     1         0        0       1       0       0   \n",
                            "3         1  ...     0     0         0        1       0       0       1   \n",
                            "4         1  ...     0     1         0        1       0       0       1   \n",
                            "\n",
                            "   legs_5  legs_6  legs_8  \n",
                            "0       0       0       0  \n",
                            "1       0       0       0  \n",
                            "2       0       0       0  \n",
                            "3       0       0       0  \n",
                            "4       0       0       0  \n",
                            "\n",
                            "[5 rows x 21 columns]"
                        ]
                    },
                    "execution_count": 5,
                    "metadata": {},
                    "output_type": "execute_result"
                }
            ],
            "source": [
                "X=pd.get_dummies(X,columns=[\"legs\"])\n",
                "X = X*1\n",
                "X.head()\n",
                "#animales que tienen hasta 8 patas"
            ]
        },
        {
            "cell_type": "code",
            "execution_count": null,
            "id": "808b7c7a",
            "metadata": {},
            "outputs": [],
            "source": []
        },
        {
            "attachments": {},
            "cell_type": "markdown",
            "id": "c62df8bb",
            "metadata": {},
            "source": [
                "## Hierarchical Clustering\n",
                "\n",
                "Dada la naturaleza biológica del conjunto de datos, parece razonable que el agrupamiento jerárquico capture la estructura similar a un árbol que podríamos esperar que esté presente en los datos."
            ]
        },
        {
            "cell_type": "code",
            "execution_count": 6,
            "id": "2b87ab33",
            "metadata": {},
            "outputs": [],
            "source": [
                "from scipy.spatial.distance import pdist, squareform"
            ]
        },
        {
            "attachments": {},
            "cell_type": "markdown",
            "id": "07b59af9",
            "metadata": {},
            "source": [
                "[scipy.spatial.distance.pdist](https://docs.scipy.org/doc/scipy/reference/generated/scipy.spatial.distance.pdist.html)"
            ]
        },
        {
            "attachments": {},
            "cell_type": "markdown",
            "id": "d559679d",
            "metadata": {},
            "source": [
                "Primero, necesitamos las distancias por pares entre los puntos de datos.\\\n",
                "Hay muchas métricas de distancia entre las que se puede elegir, y la elección afectará los resultados de la agrupación.\n",
                "\n",
                "Use `pdist` para calcular las distancias euclidianas por pares entre puntos en la matriz de datos `X` y guárdelas en `dist_mat`."
            ]
        },
        {
            "cell_type": "code",
            "execution_count": 7,
            "id": "efccfdfe",
            "metadata": {},
            "outputs": [],
            "source": [
                "### edTest(test_pdist) ###\n",
                "dist_mat = pdist(X,metric=\"euclidean\")"
            ]
        },
        {
            "attachments": {},
            "cell_type": "markdown",
            "id": "cff5c928",
            "metadata": {},
            "source": [
                "`pdist` devuelve un vector, pero se puede remodelar en la matriz $N\\times N$ de distancias por pares.\\\n",
                "La `forma cuadrada` de Scipy es una buena función de utilidad para 'descomponer' una matriz cuadrada."
            ]
        },
        {
            "cell_type": "code",
            "execution_count": 8,
            "id": "12b83d82",
            "metadata": {},
            "outputs": [
                {
                    "data": {
                        "text/plain": [
                            "((4950,), (100, 100))"
                        ]
                    },
                    "execution_count": 8,
                    "metadata": {},
                    "output_type": "execute_result"
                }
            ],
            "source": [
                "dist_mat.shape, squareform(dist_mat).shape"
            ]
        },
        {
            "attachments": {},
            "cell_type": "markdown",
            "id": "3b653759",
            "metadata": {},
            "source": [
                "Si observa la esquina superior de $5\\times 5$ de la matriz, verá que el cero está en la diagonal, como era de esperar."
            ]
        },
        {
            "cell_type": "code",
            "execution_count": 9,
            "id": "85ed48ca",
            "metadata": {},
            "outputs": [
                {
                    "data": {
                        "text/plain": [
                            "array([[0.        , 1.41421356, 3.16227766, 0.        , 1.        ],\n",
                            "       [1.41421356, 0.        , 3.16227766, 1.41421356, 1.        ],\n",
                            "       [3.16227766, 3.16227766, 0.        , 3.16227766, 3.        ],\n",
                            "       [0.        , 1.41421356, 3.16227766, 0.        , 1.        ],\n",
                            "       [1.        , 1.        , 3.        , 1.        , 0.        ]])"
                        ]
                    },
                    "execution_count": 9,
                    "metadata": {},
                    "output_type": "execute_result"
                }
            ],
            "source": [
                "squareform(dist_mat)[:5,:5]"
            ]
        },
        {
            "attachments": {},
            "cell_type": "markdown",
            "id": "b6e6a3fb",
            "metadata": {},
            "source": [
                "## Linkage"
            ]
        },
        {
            "cell_type": "code",
            "execution_count": 10,
            "id": "c9c14b37",
            "metadata": {},
            "outputs": [],
            "source": [
                "from scipy.cluster.hierarchy import linkage"
            ]
        },
        {
            "attachments": {},
            "cell_type": "markdown",
            "id": "173e32aa",
            "metadata": {},
            "source": [
                "[scipy.cluster.hierarchy.linkage](https://docs.scipy.org/doc/scipy/reference/generated/scipy.cluster.hierarchy.linkage.html#scipy.cluster.hierarchy.linkage)\\"
            ]
        },
        {
            "attachments": {},
            "cell_type": "markdown",
            "id": "a56b4827",
            "metadata": {},
            "source": [
                "Ahora que tenemos las distancias por pares, necesitamos especificar un algoritmo de agrupamiento.\\\n",
                "Una opción es utilizar un método de vinculación:\n",
                "- Enlace `'completo'`: Para dos conglomerados, determine la disimilitud máxima entre cualquier observación en el primer conglomerado y cualquier observación en el segundo\n",
                "grupo.\n",
                "- Enlace `'único'`: Para dos grupos, determine la diferencia mínima entre\n",
                "cualquier observación en el primer grupo y cualquier observación en el segundo grupo.\n",
                "- Enlace `'promedio'`: Calcule todas las diferencias por pares entre las observaciones en\n",
                "el primer y segundo grupo, y calcule el promedio."
            ]
        },
        {
            "attachments": {},
            "cell_type": "markdown",
            "id": "4fadd2a3",
            "metadata": {},
            "source": [
                "Seleccione uno de los tres métodos anteriores y guárdelo en `linkage_method`."
            ]
        },
        {
            "cell_type": "code",
            "execution_count": 11,
            "id": "a50e80c1",
            "metadata": {},
            "outputs": [
                {
                    "name": "stdout",
                    "output_type": "stream",
                    "text": [
                        "Z linkage\n",
                        "[[  0.   3.   0.   2.]\n",
                        " [  4.  10.   0.   2.]\n",
                        " [ 43. 101.   0.   3.]\n",
                        " [ 44. 102.   0.   4.]\n",
                        " [ 46. 103.   0.   5.]] \n",
                        "...\n",
                        " [[187.         193.           1.73205081  77.        ]\n",
                        " [ 52.         194.           1.73205081  78.        ]\n",
                        " [ 89.         195.           1.73205081  79.        ]\n",
                        " [177.         196.           1.73205081  99.        ]\n",
                        " [ 71.         197.           2.23606798 100.        ]]\n"
                    ]
                }
            ],
            "source": [
                "\n",
                "linkage_method = \"single\"\n",
                "Z_linkage = linkage(dist_mat, method=linkage_method)\n",
                "\n",
                "print(\"Z linkage\")\n",
                "print(Z_linkage[:5], '\\n...\\n',Z_linkage[-5:])"
            ]
        },
        {
            "attachments": {},
            "cell_type": "markdown",
            "id": "ca716cfb",
            "metadata": {},
            "source": [
                "Esta matriz representa un dendrograma, donde el primer y el segundo elemento son los dos grupos fusionados en cada paso, el tercer elemento es la distancia entre estos grupos y el cuarto elemento es el tamaño del nuevo grupo: la cantidad de puntos de datos originales incluidos ."
            ]
        },
        {
            "cell_type": "code",
            "execution_count": 12,
            "id": "f0d503ac",
            "metadata": {},
            "outputs": [],
            "source": [
                "from scipy.cluster.hierarchy import dendrogram"
            ]
        },
        {
            "attachments": {},
            "cell_type": "markdown",
            "id": "2dcd3db6",
            "metadata": {},
            "source": [
                "[scipy.cluster.hierarchy.dendrogram](https://docs.scipy.org/doc/scipy/reference/generated/scipy.cluster.hierarchy.dendrogram.html)"
            ]
        },
        {
            "attachments": {},
            "cell_type": "markdown",
            "id": "fd252557",
            "metadata": {},
            "source": [
                "El método `dendrogram` utiliza datos de vinculación para trazar la estructura de árbol de los grupos jerárquicos.\\\n",
                "Utilice los datos de vinculación en `Z_linkage` para trazar el dendrograma. Pase `animal_names` como el argumento `labels`."
            ]
        },
        {
            "cell_type": "code",
            "execution_count": 13,
            "id": "74083067",
            "metadata": {},
            "outputs": [],
            "source": [
                "from scipy.cluster.hierarchy import dendrogram"
            ]
        },
        {
            "cell_type": "code",
            "execution_count": 14,
            "id": "e18e5277",
            "metadata": {},
            "outputs": [
                {
                    "data": {
                        "image/png": "[encoded data removed]",
                        "text/plain": [
                            "<Figure size 1500x1000 with 1 Axes>"
                        ]
                    },
                    "metadata": {},
                    "output_type": "display_data"
                }
            ],
            "source": [
                "df_or = pd.read_csv(\"data/zoo.csv\")\n",
                "animales_etiq = df[\"animal_name\"].values\n",
                "plt.figure(figsize=(15,10))\n",
                "dendrogram(Z_linkage,labels=animales_etiq)\n",
                "plt.savefig(\"dendrogram.pdf\")\n",
                "plt.show()"
            ]
        },
        {
            "cell_type": "code",
            "execution_count": 15,
            "id": "3dcb3edf",
            "metadata": {},
            "outputs": [
                {
                    "name": "stdout",
                    "output_type": "stream",
                    "text": [
                        "Clusters por número: [1 1 1 1 1 1 1 1 1 1 1 1 1 1 1 1 1 1 1 1 1 1 1 1 1 1 1 1 1 1 1 1 1 1 1 1 1\n",
                        " 1 1 1 1 1 1 1 1 1 1 1 1 1 1 1 1 1 1 1 1 1 1 1 1 1 1 1 1 1 1 1 1 1 1 2 1 1\n",
                        " 1 1 1 1 1 1 1 1 1 1 1 1 1 1 1 1 1 1 1 1 1 1 1 1 1 1]\n",
                        "Clusters por distancia: [ 7  7  5  7  7  7  7  5  5  7  7  1  5  2  3  3  1  7  5  6  1  1  7  1\n",
                        "  2  4  7  7  7  2  7  7  1  5  7  7  1  5  2  2  1  2  1  7  7  3  7  7\n",
                        "  7  7  2  4 10  7  7  1  1  1  1  5  5  4  7  7  7  6  7  7  7  7  1 12\n",
                        "  5  6  8  9  2  1  1  4  2  5  1  7  3  5  1  2  4 11  4  5  7  7  1  7\n",
                        "  2  7  2  1]\n"
                    ]
                }
            ],
            "source": [
                "# Definir número de clusters deseado (Ejemplo: 3 clusters)\n",
                "num_clusters = 4\n",
                "clusters = fcluster(Z_linkage, t=num_clusters, criterion='maxclust')\n",
                "\n",
                "# O definir un umbral de distancia\n",
                "threshold_distance = 1.5\n",
                "clusters_by_distance = fcluster(Z_linkage, t=threshold_distance, criterion='distance')\n",
                "\n",
                "print(\"Clusters por número:\", clusters)\n",
                "print(\"Clusters por distancia:\", clusters_by_distance)"
            ]
        },
        {
            "cell_type": "code",
            "execution_count": 16,
            "id": "f77e2225",
            "metadata": {},
            "outputs": [
                {
                    "name": "stdout",
                    "output_type": "stream",
                    "text": [
                        "Animales en el cluster 1: ['chicken' 'crow' 'dove' 'duck' 'flamingo' 'gull' 'hawk' 'kiwi' 'lark'\n",
                        " 'ostrich' 'parakeet' 'penguin' 'pheasant' 'rhea' 'skimmer' 'skua'\n",
                        " 'sparrow' 'swan' 'vulture' 'wren']\n"
                    ]
                }
            ],
            "source": [
                "# ahora imprimir los nombres de los animales de un cluster\n",
                "# en este caso el cluster 1\n",
                "cluster_1 = np.where(clusters_by_distance == 1)[0]\n",
                "print(\"Animales en el cluster 1:\", df[\"animal_name\"].values[cluster_1]) "
            ]
        },
        {
            "attachments": {},
            "cell_type": "markdown",
            "id": "6727f619",
            "metadata": {},
            "source": [
                "🙌**El fin**"
            ]
        },
        {
            "cell_type": "markdown",
            "id": "c97412b0",
            "metadata": {},
            "source": []
        }
    ],
    "metadata": {
        "kernelspec": {
            "display_name": "Python 3",
            "language": "python",
            "name": "python3"
        },
        "language_info": {
            "codemirror_mode": {
                "name": "ipython",
                "version": 3
            },
            "file_extension": ".py",
            "mimetype": "text/x-python",
            "name": "python",
            "nbconvert_exporter": "python",
            "pygments_lexer": "ipython3",
            "version": "3.12.8"
        }
    },
    "nbformat": 4,
    "nbformat_minor": 5
}
