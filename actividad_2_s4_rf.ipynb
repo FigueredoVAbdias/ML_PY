{
    "cells": [
        {
            "cell_type": "markdown",
            "metadata": {},
            "source": [
                "# <img style=\"float: left; padding-right: 20px; height: 70px\" src=\"https://i.imgur.com/cMzxwTN.jpg\"> Fundamentos de Machine Learning\n",
                "## Actividad II, Sesion 2\n",
                "\n",
                "**Universidad Privada Boliviana**<br/>\n",
                "**Experto en Machine Learning y Ciencia de Datos**<br/>\n"
            ]
        },
        {
            "cell_type": "code",
            "execution_count": null,
            "metadata": {},
            "outputs": [],
            "source": [
                "import pandas as pd\n",
                "import numpy as np\n",
                "from sklearn.model_selection import train_test_split\n",
                "from sklearn.tree import DecisionTreeClassifier\n",
                "from sklearn.ensemble import RandomForestClassifier\n",
                "from sklearn.metrics import classification_report, accuracy_score, confusion_matrix\n",
                "import matplotlib.pyplot as plt\n",
                "import seaborn as sns\n",
                "\n"
            ]
        },
        {
            "cell_type": "markdown",
            "metadata": {},
            "source": [
                "# Agriland Classification\n",
                "\n",
                "Este notebook proporciona un enfoque paso a paso para construir un árbol de clasificación simple y un modelo de Random Forest utilizando el dataset Agriland. Evaluaremos ambos modelos y compararemos sus rendimientos para identificar cuál es más efectivo para predecir el tipo de terreno en función de las coordenadas geográficas.\n"
            ]
        },
        {
            "cell_type": "markdown",
            "metadata": {},
            "source": [
                "### **Cargar el dataset**.\n",
                "\n",
                "\n",
                "Cargar el dataset `agriland.csv` \n",
                "\n",
                "\n",
                "Visualizar las primeras filas para verificar que los datos se han cargado correctamente."
            ]
        },
        {
            "cell_type": "code",
            "execution_count": null,
            "metadata": {},
            "outputs": [],
            "source": [
                "# Cargar el dataset\n",
                "df = pd.read_csv('agriland.csv')\n",
                "\n",
                "# Mostrar las primeras filas del dataframe\n",
                "df.head()"
            ]
        },
        {
            "cell_type": "markdown",
            "metadata": {},
            "source": [
                "\n",
                "### **Realizar una breve exploración de datos**.\n",
                "\n",
                "Explorar los datos para entender mejor la estructura del dataset, ver la cantidad de datos, el tipo de cada columna y revisar si hay valores nulos. También visualiz la distribución de la variable objetivo `land_type` para entender su balance.\n"
            ]
        },
        {
            "cell_type": "code",
            "execution_count": null,
            "metadata": {},
            "outputs": [],
            "source": [
                "# Información del dataset\n",
                "df.info()\n",
                "\n",
                "# Descripción estadística del dataset\n",
                "df.describe()\n",
                "\n",
                "# Visualizar la distribución de la variable objetivo\n",
                "sns.countplot(x='land_type', data=df)\n",
                "plt.title('Distribución de la variable objetivo')\n",
                "plt.show()"
            ]
        },
        {
            "cell_type": "markdown",
            "metadata": {},
            "source": [
                "\n",
                "### **Dividir los datos en conjuntos de entrenamiento y prueba**.\n",
                "\n",
                "Dividir el dataset en dos conjuntos: uno para entrenar los modelos y otro para probar su rendimiento. Utilizaremos un 70% de los datos para entrenamiento y un 30% para prueba."
            ]
        },
        {
            "cell_type": "code",
            "execution_count": null,
            "metadata": {},
            "outputs": [],
            "source": [
                "# Separar características y variable objetivo\n",
                "X = df[['latitude', 'longitude']]\n",
                "y = df['land_type']\n",
                "\n",
                "# Dividir en conjuntos de entrenamiento y prueba\n",
                "X_train, X_test, y_train, y_test = train_test_split(X, y, test_size=0.3, random_state=42)\n"
            ]
        },
        {
            "cell_type": "markdown",
            "metadata": {},
            "source": [
                "\n",
                "### **Entrenar un árbol de clasificación**.\n",
                "\n",
                "- Entrenar un modelo de árbol de clasificación utilizando las características de entrenamiento \n",
                "- Evaluar su rendimiento sobre el conjunto de prueba. \n",
                "- Analizar el reporte de clasificación y la matriz de confusión para entender el desempeño del modelo."
            ]
        },
        {
            "cell_type": "code",
            "execution_count": null,
            "metadata": {},
            "outputs": [],
            "source": [
                "# Crear y entrenar el modelo\n",
                "tree_clf = DecisionTreeClassifier(max_depth=10, random_state=42)\n",
                "tree_clf.fit(X_train, y_train)\n",
                "\n",
                "# Realizar predicciones\n",
                "y_pred_tree = tree_clf.predict(X_test)\n",
                "\n",
                "# Evaluar el modelo\n",
                "print(\"Árbol de Clasificación - Reporte de Clasificación:\")\n",
                "print(classification_report(y_test, y_pred_tree))\n",
                "print(\"Matriz de Confusión:\")\n",
                "print(confusion_matrix(y_test, y_pred_tree))\n"
            ]
        },
        {
            "cell_type": "markdown",
            "metadata": {},
            "source": [
                "\n",
                "### **Entrenar un modelo de Random Forest**.\n",
                "\n",
                "- Entrenar un modelo de Random Forest, que es un conjunto de múltiples árboles de decisión. \n",
                "\n",
                "- Comparar su rendimiento con el del árbol de clasificación para determinar cuál es más efectivo."
            ]
        },
        {
            "cell_type": "code",
            "execution_count": null,
            "metadata": {},
            "outputs": [],
            "source": [
                "# Crear y entrenar el modelo. Escoger 5 arboles en el bosque \n",
                "rf_clf = RandomForestClassifier(n_estimators=5, max_depth=50)\n",
                "rf_clf.fit(X_train, y_train)\n",
                "\n",
                "# Realizar predicciones\n",
                "y_pred_rf = rf_clf.predict(X_test)\n",
                "\n",
                "# Evaluar el modelo\n",
                "print(\"Random Forest - Reporte de Clasificación:\")\n",
                "print(classification_report(y_test, y_pred_rf))\n",
                "print(\"Matriz de Confusión:\")\n",
                "print(confusion_matrix(y_test, y_pred_rf))"
            ]
        },
        {
            "cell_type": "markdown",
            "metadata": {},
            "source": [
                "\n",
                "### **Comparar los resultados entre ambos modelos**."
            ]
        },
        {
            "cell_type": "markdown",
            "metadata": {},
            "source": [
                "- Comparar la exactitud de ambos modelos para ver cuál proporciona mejores predicciones. \n",
                "- Utilizar la métrica de exactitud, que representa el porcentaje de predicciones correctas."
            ]
        },
        {
            "cell_type": "code",
            "execution_count": null,
            "metadata": {},
            "outputs": [],
            "source": [
                "# Comparar la exactitud de ambos modelos\n",
                "accuracy_tree = accuracy_score(y_pred_tree, y_test)\n",
                "accuracy_rf = accuracy_score(y_pred_rf, y_test)\n",
                "\n",
                "print(f\"Exactitud del Árbol de Clasificación: {accuracy_tree:.2f}\")\n",
                "print(f\"Exactitud del Random Forest: {accuracy_rf:.2f}\")\n"
            ]
        },
        {
            "cell_type": "markdown",
            "metadata": {},
            "source": [
                "## Exploración del rendimiento de Random Forest\n",
                "\n",
                "Explorar cómo afectan los diferentes parámetros del modelo de Random Forest a su rendimiento. \n",
                "\n",
                "Utilizaremos `GridSearchCV` para encontrar la mejor combinación de parámetros.\n",
                "\n",
                "\n",
                "### Parámetros de Random Forest\n",
                "\n",
                "1.  **`n_estimators`**: Número de árboles en el bosque. Aumentar este número generalmente mejora el rendimiento hasta un cierto punto, pero también incrementa el tiempo de entrenamiento.\n",
                "    \n",
                "2.  **`max_depth`**: Profundidad máxima de los árboles individuales. Controlar la profundidad puede ayudar a evitar el sobreajuste.\n",
                "    \n",
                "3.  **`min_samples_split`**: Número mínimo de muestras requeridas para dividir un nodo. Ajustar este valor puede afectar la complejidad del modelo.\n",
                "    \n",
                "4.  **`min_samples_leaf`**: Número mínimo de muestras que deben estar presentes en un nodo hoja. Puede ayudar a suavizar el modelo.\n",
                "    \n",
                "5.  **`max_features`**: Número de características a considerar al buscar la mejor división. Puede ser un número entero, un flotante (como un porcentaje), `'auto'`, `'sqrt'`, o `'log2'`.\n",
                "    \n",
                "6.  **`bootstrap`**: Si se debe usar muestreo con reemplazo al construir árboles. Puede ser `True` o `False`.\n",
                "    \n",
                "7.  **`random_state`**: Controla la aleatoriedad del estimador. Fijar una semilla puede ayudar a obtener resultados reproducibles.\n",
                "\n",
                "### Ajuste de Hiperparámetros con GridSearchCV\n",
                "\n",
                "Utilizar `GridSearchCV` para explorar combinaciones de hiperparámetros y seleccionar la mejor configuración basada en la validación cruzada."
            ]
        },
        {
            "cell_type": "code",
            "execution_count": null,
            "metadata": {},
            "outputs": [],
            "source": [
                "from sklearn.model_selection import GridSearchCV\n",
                "# Definir los parámetros a explorar\n",
                "param_grid = {\n",
                "    # Elegir 4 valores de arboles en el bosque\n",
                "    'n_estimators': [...],\n",
                "    # Elegir 3 valores de profundidad maxima en cada arbol \n",
                "    'max_depth': [ ...],\n",
                "    # Elegir 3 valores que indican un criterio de parada como el minimo numero de muestras requeridas para dividir un nodo\n",
                "    'min_samples_split': [],\n",
                "    # Elegir 3 valores que indican un criterio de parada como el minimo numero de muestras que deben estar presentes en un nodo hoja.\n",
                "    'min_samples_leaf': [1, 2],\n",
                "    # Elegir criterios disponibles de características a considerar al buscar la mejor división.\n",
                "    'max_features': ['sqrt', 'log2'],\n",
                "}\n",
                "\n",
                "# Configurar el GridSearchCV\n",
                "grid_search = GridSearchCV(estimator=...,\n",
                "                           param_grid=...,\n",
                "                           cv=3,\n",
                "                           n_jobs=-1,\n",
                "                           verbose=2)\n",
                "\n",
                "# Realizar la búsqueda de la mejor combinación de parámetros\n",
                "grid_search.fit(...)\n",
                "\n",
                "# Mostrar los mejores parámetros encontrados\n",
                "print(\"Mejores parámetros encontrados:\")\n",
                "print(...)"
            ]
        },
        {
            "cell_type": "code",
            "execution_count": null,
            "metadata": {},
            "outputs": [],
            "source": [
                "# Obtener el mejor modelo\n",
                "best_rf = RandomForestClassifier(...)\n",
                "\n",
                "# Realizar predicciones con el mejor modelo\n",
                "y_pred_best_rf = best_rf.predict(...)\n",
                "\n",
                "# Evaluar el mejor modelo\n",
                "print(\"Random Forest Optimizado - Reporte de Clasificación:\")\n",
                "print(classification_report(..., ...))\n",
                "print(\"Matriz de Confusión:\")\n",
                "print(confusion_matrix(..., ...))\n",
                "\n",
                "# Comparar la exactitud del modelo optimizado con el inicial\n",
                "accuracy_best_rf = accuracy_score(..., ...)\n",
                "print(f\"Exactitud del Random Forest Optimizado: {accuracy_best_rf:.2f}\")"
            ]
        },
        {
            "cell_type": "code",
            "execution_count": null,
            "metadata": {},
            "outputs": [],
            "source": []
        }
    ],
    "metadata": {
        "kernelspec": {
            "display_name": "Python 3",
            "language": "python",
            "name": "python3"
        },
        "language_info": {
            "codemirror_mode": {
                "name": "ipython",
                "version": 3
            },
            "file_extension": ".py",
            "mimetype": "text/x-python",
            "name": "python",
            "nbconvert_exporter": "python",
            "pygments_lexer": "ipython3",
            "version": "3.12.7"
        }
    },
    "nbformat": 4,
    "nbformat_minor": 4
}
